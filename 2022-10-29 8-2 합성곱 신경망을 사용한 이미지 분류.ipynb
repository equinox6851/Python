{
 "cells": [
  {
   "cell_type": "code",
   "execution_count": 1,
   "id": "888f2739",
   "metadata": {},
   "outputs": [],
   "source": [
    "from tensorflow import keras\n",
    "from sklearn.model_selection import train_test_split\n",
    "\n",
    "(train_input, train_target), (test_input, test_target) = keras.datasets.fashion_mnist.load_data()\n",
    "train_scaled = train_input.reshape(-1,28,28,1) / 255.0\n",
    "train_scaled, val_scaled, train_target, val_target = train_test_split(train_scaled, train_target, test_size=0.2, random_state=42)"
   ]
  },
  {
   "cell_type": "code",
   "execution_count": 2,
   "id": "7c536cd4",
   "metadata": {},
   "outputs": [
    {
     "data": {
      "text/plain": [
       "(48000, 28, 28, 1)"
      ]
     },
     "execution_count": 2,
     "metadata": {},
     "output_type": "execute_result"
    }
   ],
   "source": [
    "train_scaled.shape"
   ]
  },
  {
   "cell_type": "markdown",
   "id": "d49a42ab",
   "metadata": {},
   "source": [
    "cnn 설계"
   ]
  },
  {
   "cell_type": "code",
   "execution_count": 3,
   "id": "110584e1",
   "metadata": {},
   "outputs": [],
   "source": [
    "model = keras.Sequential()\n",
    "model.add(keras.layers.Conv2D(32, kernel_size=3, activation='relu', padding='same', input_shape=(28,28,1)))"
   ]
  },
  {
   "cell_type": "markdown",
   "id": "b397bb84",
   "metadata": {},
   "source": [
    "pooling 추가"
   ]
  },
  {
   "cell_type": "code",
   "execution_count": 4,
   "id": "b7fe1ba3",
   "metadata": {},
   "outputs": [],
   "source": [
    "model.add(keras.layers.MaxPooling2D(2))"
   ]
  },
  {
   "cell_type": "markdown",
   "id": "391d5e5c",
   "metadata": {},
   "source": [
    "layer추가"
   ]
  },
  {
   "cell_type": "code",
   "execution_count": 5,
   "id": "1ae43af3",
   "metadata": {},
   "outputs": [],
   "source": [
    "model.add(keras.layers.Conv2D(64, kernel_size=3, activation='relu', padding='same'))\n",
    "model.add(keras.layers.MaxPooling2D(2))"
   ]
  },
  {
   "cell_type": "markdown",
   "id": "14223553",
   "metadata": {},
   "source": [
    "FC layer로 연결"
   ]
  },
  {
   "cell_type": "code",
   "execution_count": 6,
   "id": "bcf36eae",
   "metadata": {},
   "outputs": [],
   "source": [
    "model.add(keras.layers.Flatten())\n",
    "model.add(keras.layers.Dense(100, activation='relu'))\n",
    "model.add(keras.layers.Dropout(0.4))\n",
    "model.add(keras.layers.Dense(10, activation='softmax'))"
   ]
  },
  {
   "cell_type": "code",
   "execution_count": 7,
   "id": "b2017c50",
   "metadata": {},
   "outputs": [
    {
     "name": "stdout",
     "output_type": "stream",
     "text": [
      "Model: \"sequential\"\n",
      "_________________________________________________________________\n",
      " Layer (type)                Output Shape              Param #   \n",
      "=================================================================\n",
      " conv2d (Conv2D)             (None, 28, 28, 32)        320       \n",
      "                                                                 \n",
      " max_pooling2d (MaxPooling2D  (None, 14, 14, 32)       0         \n",
      " )                                                               \n",
      "                                                                 \n",
      " conv2d_1 (Conv2D)           (None, 14, 14, 64)        18496     \n",
      "                                                                 \n",
      " max_pooling2d_1 (MaxPooling  (None, 7, 7, 64)         0         \n",
      " 2D)                                                             \n",
      "                                                                 \n",
      " flatten (Flatten)           (None, 3136)              0         \n",
      "                                                                 \n",
      " dense (Dense)               (None, 100)               313700    \n",
      "                                                                 \n",
      " dropout (Dropout)           (None, 100)               0         \n",
      "                                                                 \n",
      " dense_1 (Dense)             (None, 10)                1010      \n",
      "                                                                 \n",
      "=================================================================\n",
      "Total params: 333,526\n",
      "Trainable params: 333,526\n",
      "Non-trainable params: 0\n",
      "_________________________________________________________________\n"
     ]
    }
   ],
   "source": [
    "model.summary()"
   ]
  },
  {
   "cell_type": "code",
   "execution_count": 8,
   "id": "e9b320fd",
   "metadata": {},
   "outputs": [
    {
     "name": "stdout",
     "output_type": "stream",
     "text": [
      "Requirement already satisfied: pydot in c:\\users\\wltjd\\anaconda3\\envs\\pytorch\\lib\\site-packages (1.4.2)\n",
      "Requirement already satisfied: pyparsing>=2.1.4 in c:\\users\\wltjd\\anaconda3\\envs\\pytorch\\lib\\site-packages (from pydot) (3.0.9)\n"
     ]
    }
   ],
   "source": [
    "!pip install pydot  "
   ]
  },
  {
   "cell_type": "code",
   "execution_count": 9,
   "id": "c479715d",
   "metadata": {},
   "outputs": [
    {
     "name": "stdout",
     "output_type": "stream",
     "text": [
      "Requirement already satisfied: graphviz in c:\\users\\wltjd\\anaconda3\\envs\\pytorch\\lib\\site-packages (0.20.1)\n"
     ]
    }
   ],
   "source": [
    "!pip install graphviz"
   ]
  },
  {
   "cell_type": "markdown",
   "id": "0170f6f4",
   "metadata": {},
   "source": [
    "여기 하다가 안되서 블로그 참조 했음\n",
    "\n",
    "참조 블로그 : https://twinstarinfo.blogspot.com/2019/05/pydot-install.html\n",
    "\n",
    "conda command에서 conda install pydot, conda install graphviz 두개 실행했음"
   ]
  },
  {
   "cell_type": "code",
   "execution_count": 10,
   "id": "5b77fc4a",
   "metadata": {
    "scrolled": true
   },
   "outputs": [
    {
     "name": "stdout",
     "output_type": "stream",
     "text": [
      "You must install pydot (`pip install pydot`) and install graphviz (see instructions at https://graphviz.gitlab.io/download/) for plot_model to work.\n"
     ]
    }
   ],
   "source": [
    "keras.utils.plot_model(model)"
   ]
  },
  {
   "cell_type": "markdown",
   "id": "e37970f0",
   "metadata": {},
   "source": [
    "아래 코드로 진행해도 같은 결과가 나옴"
   ]
  },
  {
   "cell_type": "code",
   "execution_count": 11,
   "id": "3ec1b498",
   "metadata": {
    "scrolled": true
   },
   "outputs": [
    {
     "name": "stdout",
     "output_type": "stream",
     "text": [
      "You must install pydot (`pip install pydot`) and install graphviz (see instructions at https://graphviz.gitlab.io/download/) for plot_model to work.\n"
     ]
    }
   ],
   "source": [
    "from tensorflow.keras.utils import plot_model\n",
    "\n",
    "plot_model(model)"
   ]
  },
  {
   "cell_type": "code",
   "execution_count": 12,
   "id": "778db382",
   "metadata": {
    "scrolled": true
   },
   "outputs": [
    {
     "name": "stdout",
     "output_type": "stream",
     "text": [
      "You must install pydot (`pip install pydot`) and install graphviz (see instructions at https://graphviz.gitlab.io/download/) for plot_model to work.\n"
     ]
    }
   ],
   "source": [
    "keras.utils.plot_model(model, show_shapes=True, to_file='cnn-acrhitecture.png', dpi=300)"
   ]
  },
  {
   "cell_type": "code",
   "execution_count": 13,
   "id": "de4625fd",
   "metadata": {},
   "outputs": [
    {
     "name": "stdout",
     "output_type": "stream",
     "text": [
      "Epoch 1/20\n",
      "1500/1500 [==============================] - 34s 22ms/step - loss: 0.5387 - accuracy: 0.8094 - val_loss: 0.3370 - val_accuracy: 0.8741\n",
      "Epoch 2/20\n",
      "1500/1500 [==============================] - 32s 22ms/step - loss: 0.3553 - accuracy: 0.8737 - val_loss: 0.2787 - val_accuracy: 0.8955\n",
      "Epoch 3/20\n",
      "1500/1500 [==============================] - 32s 21ms/step - loss: 0.3058 - accuracy: 0.8913 - val_loss: 0.2648 - val_accuracy: 0.9032\n",
      "Epoch 4/20\n",
      "1500/1500 [==============================] - 32s 21ms/step - loss: 0.2709 - accuracy: 0.9032 - val_loss: 0.2507 - val_accuracy: 0.9091\n",
      "Epoch 5/20\n",
      "1500/1500 [==============================] - 32s 22ms/step - loss: 0.2498 - accuracy: 0.9095 - val_loss: 0.2467 - val_accuracy: 0.9099\n",
      "Epoch 6/20\n",
      "1500/1500 [==============================] - 33s 22ms/step - loss: 0.2273 - accuracy: 0.9171 - val_loss: 0.2301 - val_accuracy: 0.9162\n",
      "Epoch 7/20\n",
      "1500/1500 [==============================] - 33s 22ms/step - loss: 0.2116 - accuracy: 0.9232 - val_loss: 0.2256 - val_accuracy: 0.9156\n",
      "Epoch 8/20\n",
      "1500/1500 [==============================] - 33s 22ms/step - loss: 0.1967 - accuracy: 0.9282 - val_loss: 0.2280 - val_accuracy: 0.9174\n",
      "Epoch 9/20\n",
      "1500/1500 [==============================] - 34s 22ms/step - loss: 0.1815 - accuracy: 0.9330 - val_loss: 0.2271 - val_accuracy: 0.9186\n"
     ]
    }
   ],
   "source": [
    "# 모델 컴파일과 훈련\n",
    "model.compile(optimizer='adam', loss='sparse_categorical_crossentropy', metrics='accuracy')\n",
    "checkpoint_cb = keras.callbacks.ModelCheckpoint('best-cnn-model.h5')\n",
    "early_stopping_cb = keras.callbacks.EarlyStopping(patience=2, restore_best_weights=True)\n",
    "history = model.fit(train_scaled, train_target, epochs=20, validation_data=(val_scaled, val_target), callbacks=[checkpoint_cb, early_stopping_cb])"
   ]
  },
  {
   "cell_type": "code",
   "execution_count": 14,
   "id": "2413efcd",
   "metadata": {},
   "outputs": [
    {
     "data": {
      "image/png": "[encoded data removed]",
      "text/plain": [
       "<Figure size 640x480 with 1 Axes>"
      ]
     },
     "metadata": {},
     "output_type": "display_data"
    }
   ],
   "source": [
    "import matplotlib.pyplot as plt\n",
    "\n",
    "plt.plot(history.history['loss'])\n",
    "plt.plot(history.history['val_loss'])\n",
    "plt.xlabel('epoch')\n",
    "plt.ylabel('loss')\n",
    "plt.legend(['train', 'val'])\n",
    "plt.show()"
   ]
  },
  {
   "cell_type": "code",
   "execution_count": 15,
   "id": "2140ac1f",
   "metadata": {},
   "outputs": [
    {
     "name": "stdout",
     "output_type": "stream",
     "text": [
      "375/375 [==============================] - 2s 5ms/step - loss: 0.2256 - accuracy: 0.9156\n"
     ]
    },
    {
     "data": {
      "text/plain": [
       "[0.22556646168231964, 0.9155833125114441]"
      ]
     },
     "execution_count": 15,
     "metadata": {},
     "output_type": "execute_result"
    }
   ],
   "source": [
    "model.evaluate(val_scaled, val_target)"
   ]
  },
  {
   "cell_type": "code",
   "execution_count": 16,
   "id": "1749c581",
   "metadata": {},
   "outputs": [
    {
     "data": {
      "text/plain": [
       "<matplotlib.image.AxesImage at 0x1448c6ca670>"
      ]
     },
     "execution_count": 16,
     "metadata": {},
     "output_type": "execute_result"
    },
    {
     "data": {
      "image/png": "[encoded data removed]",
      "text/plain": [
       "<Figure size 640x480 with 1 Axes>"
      ]
     },
     "metadata": {},
     "output_type": "display_data"
    }
   ],
   "source": [
    "plt.imshow(val_scaled[0].reshape(28,28), cmap='gray_r')"
   ]
  },
  {
   "cell_type": "markdown",
   "id": "c5bc4b82",
   "metadata": {},
   "source": [
    "val_scaled[0:1]와 val_scaled[0]은 다르다?"
   ]
  },
  {
   "cell_type": "code",
   "execution_count": 23,
   "id": "0d170916",
   "metadata": {},
   "outputs": [
    {
     "name": "stdout",
     "output_type": "stream",
     "text": [
      "(1, 28, 28, 1)\n"
     ]
    }
   ],
   "source": [
    "print(val_scaled[0:1].shape)"
   ]
  },
  {
   "cell_type": "code",
   "execution_count": 24,
   "id": "57b494ca",
   "metadata": {},
   "outputs": [
    {
     "name": "stdout",
     "output_type": "stream",
     "text": [
      "(28, 28, 1)\n"
     ]
    }
   ],
   "source": [
    "print(val_scaled[0].shape)"
   ]
  },
  {
   "cell_type": "code",
   "execution_count": 17,
   "id": "bf0ad04c",
   "metadata": {},
   "outputs": [
    {
     "name": "stdout",
     "output_type": "stream",
     "text": [
      "1/1 [==============================] - 0s 104ms/step\n",
      "[[4.0723980e-15 8.0890974e-26 3.0731686e-19 5.7905724e-19 1.0241747e-16\n",
      "  5.1703623e-18 5.2229170e-17 1.1824259e-15 1.0000000e+00 1.7549064e-16]]\n"
     ]
    }
   ],
   "source": [
    "preds= model.predict(val_scaled[0:1])\n",
    "print(preds)"
   ]
  },
  {
   "cell_type": "code",
   "execution_count": 21,
   "id": "8864ec7d",
   "metadata": {},
   "outputs": [
    {
     "data": {
      "image/png": "[encoded data removed]",
      "text/plain": [
       "<Figure size 640x480 with 1 Axes>"
      ]
     },
     "metadata": {},
     "output_type": "display_data"
    }
   ],
   "source": [
    "plt.bar(range(1,11), preds[0])\n",
    "plt.xlabel('class')\n",
    "plt.ylabel('prob.')\n",
    "plt.show()"
   ]
  },
  {
   "cell_type": "code",
   "execution_count": 22,
   "id": "c72c19b9",
   "metadata": {},
   "outputs": [],
   "source": [
    "classes = ['티셔츠', '바지', '스웨터', '드레스', '코트', '샌달', '셔츠', '스니커즈', '가방', '앵클부츠']"
   ]
  },
  {
   "cell_type": "code",
   "execution_count": 25,
   "id": "0442231b",
   "metadata": {},
   "outputs": [
    {
     "name": "stdout",
     "output_type": "stream",
     "text": [
      "가방\n"
     ]
    }
   ],
   "source": [
    "import numpy as np\n",
    "print(classes[np.argmax(preds)])"
   ]
  },
  {
   "cell_type": "code",
   "execution_count": 26,
   "id": "2588f107",
   "metadata": {},
   "outputs": [],
   "source": [
    "test_scaled = test_input.reshape(-1,28,28,1) / 255.0"
   ]
  },
  {
   "cell_type": "code",
   "execution_count": 27,
   "id": "d52d258a",
   "metadata": {},
   "outputs": [
    {
     "name": "stdout",
     "output_type": "stream",
     "text": [
      "313/313 [==============================] - 2s 6ms/step - loss: 0.2491 - accuracy: 0.9106\n"
     ]
    },
    {
     "data": {
      "text/plain": [
       "[0.2490682601928711, 0.9106000065803528]"
      ]
     },
     "execution_count": 27,
     "metadata": {},
     "output_type": "execute_result"
    }
   ],
   "source": [
    "model.evaluate(test_scaled, test_target)"
   ]
  },
  {
   "cell_type": "code",
   "execution_count": null,
   "id": "2ae81023",
   "metadata": {},
   "outputs": [],
   "source": []
  }
 ],
 "metadata": {
  "kernelspec": {
   "display_name": "Python 3 (ipykernel)",
   "language": "python",
   "name": "python3"
  },
  "language_info": {
   "codemirror_mode": {
    "name": "ipython",
    "version": 3
   },
   "file_extension": ".py",
   "mimetype": "text/x-python",
   "name": "python",
   "nbconvert_exporter": "python",
   "pygments_lexer": "ipython3",
   "version": "3.8.13"
  }
 },
 "nbformat": 4,
 "nbformat_minor": 5
}

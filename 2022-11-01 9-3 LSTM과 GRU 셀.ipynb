{
 "cells": [
  {
   "cell_type": "code",
   "execution_count": 1,
   "id": "a8c39e55",
   "metadata": {},
   "outputs": [],
   "source": [
    "from tensorflow.keras.datasets import imdb\n",
    "from sklearn.model_selection import train_test_split\n",
    "\n",
    "(train_input, train_target), (test_input, test_target) = imdb.load_data(num_words=500)\n",
    "train_input, val_input, train_target, val_target = train_test_split(train_input, train_target, test_size=0.2, random_state=42)"
   ]
  },
  {
   "cell_type": "code",
   "execution_count": 2,
   "id": "bf9f7965",
   "metadata": {},
   "outputs": [],
   "source": [
    "from tensorflow.keras.preprocessing.sequence import pad_sequences\n",
    "\n",
    "train_seq = pad_sequences(train_input, maxlen=100)\n",
    "val_seq = pad_sequences(val_input, maxlen=100)"
   ]
  },
  {
   "cell_type": "code",
   "execution_count": 3,
   "id": "473fdcca",
   "metadata": {},
   "outputs": [],
   "source": [
    "from tensorflow import keras\n",
    "\n",
    "model = keras.Sequential()\n",
    "model.add(keras.layers.Embedding(500, 16, input_length=100))\n",
    "model.add(keras.layers.LSTM(8))\n",
    "model.add(keras.layers.Dense(1, activation='sigmoid'))"
   ]
  },
  {
   "cell_type": "code",
   "execution_count": 4,
   "id": "2930643b",
   "metadata": {},
   "outputs": [
    {
     "name": "stdout",
     "output_type": "stream",
     "text": [
      "Model: \"sequential\"\n",
      "_________________________________________________________________\n",
      " Layer (type)                Output Shape              Param #   \n",
      "=================================================================\n",
      " embedding (Embedding)       (None, 100, 16)           8000      \n",
      "                                                                 \n",
      " lstm (LSTM)                 (None, 8)                 800       \n",
      "                                                                 \n",
      " dense (Dense)               (None, 1)                 9         \n",
      "                                                                 \n",
      "=================================================================\n",
      "Total params: 8,809\n",
      "Trainable params: 8,809\n",
      "Non-trainable params: 0\n",
      "_________________________________________________________________\n"
     ]
    }
   ],
   "source": [
    "model.summary()"
   ]
  },
  {
   "cell_type": "code",
   "execution_count": 6,
   "id": "690ff98e",
   "metadata": {
    "collapsed": true
   },
   "outputs": [
    {
     "name": "stdout",
     "output_type": "stream",
     "text": [
      "Epoch 1/100\n",
      "313/313 [==============================] - 8s 20ms/step - loss: 0.6924 - accuracy: 0.5387 - val_loss: 0.6920 - val_accuracy: 0.5506\n",
      "Epoch 2/100\n",
      "313/313 [==============================] - 6s 21ms/step - loss: 0.6907 - accuracy: 0.5725 - val_loss: 0.6898 - val_accuracy: 0.5920\n",
      "Epoch 3/100\n",
      "313/313 [==============================] - 7s 22ms/step - loss: 0.6872 - accuracy: 0.6198 - val_loss: 0.6849 - val_accuracy: 0.6206\n",
      "Epoch 4/100\n",
      "313/313 [==============================] - 7s 23ms/step - loss: 0.6744 - accuracy: 0.6045 - val_loss: 0.6595 - val_accuracy: 0.5812\n",
      "Epoch 5/100\n",
      "313/313 [==============================] - 7s 24ms/step - loss: 0.6249 - accuracy: 0.6832 - val_loss: 0.6102 - val_accuracy: 0.7314\n",
      "Epoch 6/100\n",
      "313/313 [==============================] - 8s 25ms/step - loss: 0.5908 - accuracy: 0.7427 - val_loss: 0.5867 - val_accuracy: 0.7394\n",
      "Epoch 7/100\n",
      "313/313 [==============================] - 8s 25ms/step - loss: 0.5717 - accuracy: 0.7537 - val_loss: 0.5741 - val_accuracy: 0.7488\n",
      "Epoch 8/100\n",
      "313/313 [==============================] - 8s 25ms/step - loss: 0.5564 - accuracy: 0.7610 - val_loss: 0.5581 - val_accuracy: 0.7544\n",
      "Epoch 9/100\n",
      "313/313 [==============================] - 8s 24ms/step - loss: 0.5425 - accuracy: 0.7653 - val_loss: 0.5449 - val_accuracy: 0.7612\n",
      "Epoch 10/100\n",
      "313/313 [==============================] - 8s 25ms/step - loss: 0.5293 - accuracy: 0.7725 - val_loss: 0.5335 - val_accuracy: 0.7618\n",
      "Epoch 11/100\n",
      "313/313 [==============================] - 8s 26ms/step - loss: 0.5169 - accuracy: 0.7778 - val_loss: 0.5219 - val_accuracy: 0.7654\n",
      "Epoch 12/100\n",
      "313/313 [==============================] - 9s 28ms/step - loss: 0.5048 - accuracy: 0.7821 - val_loss: 0.5105 - val_accuracy: 0.7696\n",
      "Epoch 13/100\n",
      "313/313 [==============================] - 11s 37ms/step - loss: 0.4930 - accuracy: 0.7867 - val_loss: 0.5006 - val_accuracy: 0.7752\n",
      "Epoch 14/100\n",
      "313/313 [==============================] - 13s 41ms/step - loss: 0.4828 - accuracy: 0.7895 - val_loss: 0.4908 - val_accuracy: 0.7784\n",
      "Epoch 15/100\n",
      "313/313 [==============================] - 15s 50ms/step - loss: 0.4733 - accuracy: 0.7935 - val_loss: 0.4866 - val_accuracy: 0.7822\n",
      "Epoch 16/100\n",
      "313/313 [==============================] - 23s 74ms/step - loss: 0.4648 - accuracy: 0.7965 - val_loss: 0.4773 - val_accuracy: 0.7840\n",
      "Epoch 17/100\n",
      "313/313 [==============================] - 12s 40ms/step - loss: 0.4577 - accuracy: 0.7991 - val_loss: 0.4700 - val_accuracy: 0.7852\n",
      "Epoch 18/100\n",
      "313/313 [==============================] - 10s 32ms/step - loss: 0.4512 - accuracy: 0.8013 - val_loss: 0.4638 - val_accuracy: 0.7912\n",
      "Epoch 19/100\n",
      "313/313 [==============================] - 9s 29ms/step - loss: 0.4456 - accuracy: 0.8044 - val_loss: 0.4596 - val_accuracy: 0.7922\n",
      "Epoch 20/100\n",
      "313/313 [==============================] - 8s 26ms/step - loss: 0.4406 - accuracy: 0.8061 - val_loss: 0.4578 - val_accuracy: 0.7920\n",
      "Epoch 21/100\n",
      "313/313 [==============================] - 8s 25ms/step - loss: 0.4358 - accuracy: 0.8087 - val_loss: 0.4541 - val_accuracy: 0.7918\n",
      "Epoch 22/100\n",
      "313/313 [==============================] - 7s 24ms/step - loss: 0.4323 - accuracy: 0.8087 - val_loss: 0.4501 - val_accuracy: 0.7948\n",
      "Epoch 23/100\n",
      "313/313 [==============================] - 7s 23ms/step - loss: 0.4289 - accuracy: 0.8111 - val_loss: 0.4483 - val_accuracy: 0.7950\n",
      "Epoch 24/100\n",
      "313/313 [==============================] - 7s 24ms/step - loss: 0.4257 - accuracy: 0.8119 - val_loss: 0.4493 - val_accuracy: 0.7950\n",
      "Epoch 25/100\n",
      "313/313 [==============================] - 8s 24ms/step - loss: 0.4235 - accuracy: 0.8130 - val_loss: 0.4433 - val_accuracy: 0.7998\n",
      "Epoch 26/100\n",
      "313/313 [==============================] - 8s 26ms/step - loss: 0.4212 - accuracy: 0.8131 - val_loss: 0.4435 - val_accuracy: 0.7980\n",
      "Epoch 27/100\n",
      "313/313 [==============================] - 8s 27ms/step - loss: 0.4191 - accuracy: 0.8143 - val_loss: 0.4419 - val_accuracy: 0.7988\n",
      "Epoch 28/100\n",
      "313/313 [==============================] - 8s 26ms/step - loss: 0.4169 - accuracy: 0.8141 - val_loss: 0.4398 - val_accuracy: 0.7978\n",
      "Epoch 29/100\n",
      "313/313 [==============================] - 8s 26ms/step - loss: 0.4155 - accuracy: 0.8151 - val_loss: 0.4380 - val_accuracy: 0.8000\n",
      "Epoch 30/100\n",
      "313/313 [==============================] - 9s 29ms/step - loss: 0.4136 - accuracy: 0.8163 - val_loss: 0.4362 - val_accuracy: 0.8014\n",
      "Epoch 31/100\n",
      "313/313 [==============================] - 10s 32ms/step - loss: 0.4127 - accuracy: 0.8162 - val_loss: 0.4366 - val_accuracy: 0.7990\n",
      "Epoch 32/100\n",
      "313/313 [==============================] - 10s 32ms/step - loss: 0.4111 - accuracy: 0.8164 - val_loss: 0.4361 - val_accuracy: 0.7986\n",
      "Epoch 33/100\n",
      "313/313 [==============================] - 11s 35ms/step - loss: 0.4102 - accuracy: 0.8156 - val_loss: 0.4345 - val_accuracy: 0.8010\n",
      "Epoch 34/100\n",
      "313/313 [==============================] - 12s 37ms/step - loss: 0.4088 - accuracy: 0.8165 - val_loss: 0.4332 - val_accuracy: 0.8020\n",
      "Epoch 35/100\n",
      "313/313 [==============================] - 13s 41ms/step - loss: 0.4078 - accuracy: 0.8169 - val_loss: 0.4311 - val_accuracy: 0.8016\n",
      "Epoch 36/100\n",
      "313/313 [==============================] - 21s 68ms/step - loss: 0.4063 - accuracy: 0.8191 - val_loss: 0.4323 - val_accuracy: 0.8022\n",
      "Epoch 37/100\n",
      "313/313 [==============================] - 20s 63ms/step - loss: 0.4055 - accuracy: 0.8187 - val_loss: 0.4351 - val_accuracy: 0.7954\n",
      "Epoch 38/100\n",
      "313/313 [==============================] - 12s 40ms/step - loss: 0.4043 - accuracy: 0.8202 - val_loss: 0.4292 - val_accuracy: 0.8028\n",
      "Epoch 39/100\n",
      "313/313 [==============================] - 11s 35ms/step - loss: 0.4037 - accuracy: 0.8183 - val_loss: 0.4302 - val_accuracy: 0.8024\n",
      "Epoch 40/100\n",
      "313/313 [==============================] - 9s 28ms/step - loss: 0.4027 - accuracy: 0.8181 - val_loss: 0.4301 - val_accuracy: 0.7974\n",
      "Epoch 41/100\n",
      "313/313 [==============================] - 8s 25ms/step - loss: 0.4019 - accuracy: 0.8181 - val_loss: 0.4295 - val_accuracy: 0.8054\n"
     ]
    }
   ],
   "source": [
    "rmsprop = keras.optimizers.RMSprop(learning_rate=1e-4)\n",
    "model.compile(optimizer=rmsprop, loss='binary_crossentropy', metrics=['accuracy'])\n",
    "checkpoint_cb = keras.callbacks.ModelCheckpoint('best-lstm-model.h5')\n",
    "early_stopping_cb = keras.callbacks.EarlyStopping(patience=3, restore_best_weights=True)\n",
    "history = model.fit(train_seq, train_target, epochs=100, batch_size=64, validation_data=(val_seq, val_target),\n",
    "                    callbacks=[checkpoint_cb, early_stopping_cb])"
   ]
  },
  {
   "cell_type": "code",
   "execution_count": 7,
   "id": "bba2303b",
   "metadata": {},
   "outputs": [
    {
     "data": {
      "image/png": "[encoded data removed]",
      "text/plain": [
       "<Figure size 432x288 with 1 Axes>"
      ]
     },
     "metadata": {
      "needs_background": "light"
     },
     "output_type": "display_data"
    }
   ],
   "source": [
    "import matplotlib.pyplot as plt\n",
    "\n",
    "plt.plot(history.history['loss'])\n",
    "plt.plot(history.history['val_loss'])\n",
    "plt.xlabel('epoch')\n",
    "plt.ylabel('loss')\n",
    "plt.legend(['train','val'])\n",
    "plt.show()"
   ]
  },
  {
   "cell_type": "code",
   "execution_count": 8,
   "id": "5c0df1f0",
   "metadata": {},
   "outputs": [],
   "source": [
    "model2 = keras.Sequential()\n",
    "model2.add(keras.layers.Embedding(500, 16, input_length=100))\n",
    "model2.add(keras.layers.LSTM(8, dropout=0.3))\n",
    "model2.add(keras.layers.Dense(1, activation='sigmoid'))"
   ]
  },
  {
   "cell_type": "code",
   "execution_count": 9,
   "id": "027cf718",
   "metadata": {
    "scrolled": true
   },
   "outputs": [
    {
     "name": "stdout",
     "output_type": "stream",
     "text": [
      "Epoch 1/100\n",
      "313/313 [==============================] - 9s 25ms/step - loss: 0.6921 - accuracy: 0.5612 - val_loss: 0.6912 - val_accuracy: 0.5960\n",
      "Epoch 2/100\n",
      "313/313 [==============================] - 8s 26ms/step - loss: 0.6889 - accuracy: 0.6166 - val_loss: 0.6861 - val_accuracy: 0.6486\n",
      "Epoch 3/100\n",
      "313/313 [==============================] - 8s 25ms/step - loss: 0.6772 - accuracy: 0.6439 - val_loss: 0.6605 - val_accuracy: 0.6368\n",
      "Epoch 4/100\n",
      "313/313 [==============================] - 9s 28ms/step - loss: 0.6313 - accuracy: 0.6948 - val_loss: 0.6072 - val_accuracy: 0.7264\n",
      "Epoch 5/100\n",
      "313/313 [==============================] - 8s 27ms/step - loss: 0.5975 - accuracy: 0.7309 - val_loss: 0.5892 - val_accuracy: 0.7280\n",
      "Epoch 6/100\n",
      "313/313 [==============================] - 9s 30ms/step - loss: 0.5781 - accuracy: 0.7411 - val_loss: 0.5702 - val_accuracy: 0.7408\n",
      "Epoch 7/100\n",
      "313/313 [==============================] - 9s 30ms/step - loss: 0.5616 - accuracy: 0.7515 - val_loss: 0.5542 - val_accuracy: 0.7554\n",
      "Epoch 8/100\n",
      "313/313 [==============================] - 10s 32ms/step - loss: 0.5446 - accuracy: 0.7616 - val_loss: 0.5459 - val_accuracy: 0.7500\n",
      "Epoch 9/100\n",
      "313/313 [==============================] - 11s 35ms/step - loss: 0.5279 - accuracy: 0.7706 - val_loss: 0.5227 - val_accuracy: 0.7670\n",
      "Epoch 10/100\n",
      "313/313 [==============================] - 12s 38ms/step - loss: 0.5132 - accuracy: 0.7732 - val_loss: 0.5078 - val_accuracy: 0.7708\n",
      "Epoch 11/100\n",
      "313/313 [==============================] - 14s 46ms/step - loss: 0.4970 - accuracy: 0.7783 - val_loss: 0.4945 - val_accuracy: 0.7750\n",
      "Epoch 12/100\n",
      "313/313 [==============================] - 20s 65ms/step - loss: 0.4833 - accuracy: 0.7839 - val_loss: 0.4830 - val_accuracy: 0.7846\n",
      "Epoch 13/100\n",
      "313/313 [==============================] - 12s 37ms/step - loss: 0.4702 - accuracy: 0.7898 - val_loss: 0.4737 - val_accuracy: 0.7798\n",
      "Epoch 14/100\n",
      "313/313 [==============================] - 10s 32ms/step - loss: 0.4637 - accuracy: 0.7904 - val_loss: 0.4641 - val_accuracy: 0.7886\n",
      "Epoch 15/100\n",
      "313/313 [==============================] - 9s 28ms/step - loss: 0.4533 - accuracy: 0.7965 - val_loss: 0.4588 - val_accuracy: 0.7892\n",
      "Epoch 16/100\n",
      "313/313 [==============================] - 8s 26ms/step - loss: 0.4495 - accuracy: 0.7985 - val_loss: 0.4540 - val_accuracy: 0.7914\n",
      "Epoch 17/100\n",
      "313/313 [==============================] - 8s 26ms/step - loss: 0.4443 - accuracy: 0.7997 - val_loss: 0.4509 - val_accuracy: 0.7924\n",
      "Epoch 18/100\n",
      "313/313 [==============================] - 7s 24ms/step - loss: 0.4428 - accuracy: 0.7997 - val_loss: 0.4476 - val_accuracy: 0.7970\n",
      "Epoch 19/100\n",
      "313/313 [==============================] - 8s 25ms/step - loss: 0.4381 - accuracy: 0.8033 - val_loss: 0.4449 - val_accuracy: 0.7962\n",
      "Epoch 20/100\n",
      "313/313 [==============================] - 8s 25ms/step - loss: 0.4355 - accuracy: 0.8023 - val_loss: 0.4452 - val_accuracy: 0.7948\n",
      "Epoch 21/100\n",
      "313/313 [==============================] - 8s 26ms/step - loss: 0.4319 - accuracy: 0.8065 - val_loss: 0.4426 - val_accuracy: 0.7974\n",
      "Epoch 22/100\n",
      "313/313 [==============================] - 8s 26ms/step - loss: 0.4314 - accuracy: 0.8033 - val_loss: 0.4400 - val_accuracy: 0.7978\n",
      "Epoch 23/100\n",
      "313/313 [==============================] - 9s 29ms/step - loss: 0.4278 - accuracy: 0.8070 - val_loss: 0.4396 - val_accuracy: 0.7986\n",
      "Epoch 24/100\n",
      "313/313 [==============================] - 9s 28ms/step - loss: 0.4283 - accuracy: 0.8063 - val_loss: 0.4379 - val_accuracy: 0.8000\n",
      "Epoch 25/100\n",
      "313/313 [==============================] - 10s 32ms/step - loss: 0.4272 - accuracy: 0.8063 - val_loss: 0.4392 - val_accuracy: 0.7976\n",
      "Epoch 26/100\n",
      "313/313 [==============================] - 12s 38ms/step - loss: 0.4249 - accuracy: 0.8046 - val_loss: 0.4366 - val_accuracy: 0.7998\n",
      "Epoch 27/100\n",
      "313/313 [==============================] - 12s 38ms/step - loss: 0.4240 - accuracy: 0.8070 - val_loss: 0.4386 - val_accuracy: 0.7932\n",
      "Epoch 28/100\n",
      "313/313 [==============================] - 14s 46ms/step - loss: 0.4237 - accuracy: 0.8067 - val_loss: 0.4347 - val_accuracy: 0.7982\n",
      "Epoch 29/100\n",
      "313/313 [==============================] - 17s 53ms/step - loss: 0.4217 - accuracy: 0.8066 - val_loss: 0.4341 - val_accuracy: 0.8006\n",
      "Epoch 30/100\n",
      "313/313 [==============================] - 20s 63ms/step - loss: 0.4196 - accuracy: 0.8087 - val_loss: 0.4353 - val_accuracy: 0.8002\n",
      "Epoch 31/100\n",
      "313/313 [==============================] - 12s 38ms/step - loss: 0.4211 - accuracy: 0.8072 - val_loss: 0.4396 - val_accuracy: 0.7994\n",
      "Epoch 32/100\n",
      "313/313 [==============================] - 9s 30ms/step - loss: 0.4205 - accuracy: 0.8079 - val_loss: 0.4331 - val_accuracy: 0.8000\n",
      "Epoch 33/100\n",
      "313/313 [==============================] - 8s 27ms/step - loss: 0.4167 - accuracy: 0.8098 - val_loss: 0.4341 - val_accuracy: 0.8010\n",
      "Epoch 34/100\n",
      "313/313 [==============================] - 8s 25ms/step - loss: 0.4183 - accuracy: 0.8104 - val_loss: 0.4328 - val_accuracy: 0.7998\n",
      "Epoch 35/100\n",
      "313/313 [==============================] - 7s 24ms/step - loss: 0.4161 - accuracy: 0.8102 - val_loss: 0.4325 - val_accuracy: 0.7990\n",
      "Epoch 36/100\n",
      "313/313 [==============================] - 7s 24ms/step - loss: 0.4171 - accuracy: 0.8100 - val_loss: 0.4338 - val_accuracy: 0.8006\n",
      "Epoch 37/100\n",
      "313/313 [==============================] - 7s 23ms/step - loss: 0.4151 - accuracy: 0.8108 - val_loss: 0.4318 - val_accuracy: 0.7988\n",
      "Epoch 38/100\n",
      "313/313 [==============================] - 8s 24ms/step - loss: 0.4157 - accuracy: 0.8116 - val_loss: 0.4319 - val_accuracy: 0.7988\n",
      "Epoch 39/100\n",
      "313/313 [==============================] - 7s 24ms/step - loss: 0.4148 - accuracy: 0.8117 - val_loss: 0.4314 - val_accuracy: 0.8016\n",
      "Epoch 40/100\n",
      "313/313 [==============================] - 8s 25ms/step - loss: 0.4143 - accuracy: 0.8105 - val_loss: 0.4310 - val_accuracy: 0.8006\n",
      "Epoch 41/100\n",
      "313/313 [==============================] - 8s 25ms/step - loss: 0.4139 - accuracy: 0.8109 - val_loss: 0.4324 - val_accuracy: 0.7988\n",
      "Epoch 42/100\n",
      "313/313 [==============================] - 8s 27ms/step - loss: 0.4138 - accuracy: 0.8103 - val_loss: 0.4307 - val_accuracy: 0.8010\n",
      "Epoch 43/100\n",
      "313/313 [==============================] - 8s 27ms/step - loss: 0.4133 - accuracy: 0.8113 - val_loss: 0.4313 - val_accuracy: 0.8020\n",
      "Epoch 44/100\n",
      "313/313 [==============================] - 9s 29ms/step - loss: 0.4130 - accuracy: 0.8086 - val_loss: 0.4304 - val_accuracy: 0.8000\n",
      "Epoch 45/100\n",
      "313/313 [==============================] - 9s 29ms/step - loss: 0.4113 - accuracy: 0.8106 - val_loss: 0.4330 - val_accuracy: 0.8032\n",
      "Epoch 46/100\n",
      "313/313 [==============================] - 10s 32ms/step - loss: 0.4117 - accuracy: 0.8135 - val_loss: 0.4305 - val_accuracy: 0.8002\n",
      "Epoch 47/100\n",
      "313/313 [==============================] - 11s 34ms/step - loss: 0.4117 - accuracy: 0.8113 - val_loss: 0.4310 - val_accuracy: 0.7994\n"
     ]
    }
   ],
   "source": [
    "rmsprop = keras.optimizers.RMSprop(learning_rate=1e-4)\n",
    "model2.compile(optimizer=rmsprop, loss='binary_crossentropy', metrics=['accuracy'])\n",
    "checkpoint_cb = keras.callbacks.ModelCheckpoint('best-dropout-lstm-model.h5')\n",
    "early_stopping_cb = keras.callbacks.EarlyStopping(patience=3, restore_best_weights=True)\n",
    "history = model2.fit(train_seq, train_target, epochs=100, batch_size=64, validation_data=(val_seq, val_target),\n",
    "                    callbacks=[checkpoint_cb, early_stopping_cb])"
   ]
  },
  {
   "cell_type": "code",
   "execution_count": 10,
   "id": "6c8ec377",
   "metadata": {},
   "outputs": [
    {
     "data": {
      "image/png": "[encoded data removed]",
      "text/plain": [
       "<Figure size 432x288 with 1 Axes>"
      ]
     },
     "metadata": {
      "needs_background": "light"
     },
     "output_type": "display_data"
    }
   ],
   "source": [
    "plt.plot(history.history['loss'])\n",
    "plt.plot(history.history['val_loss'])\n",
    "plt.xlabel('epoch')\n",
    "plt.ylabel('loss')\n",
    "plt.legend(['train','val'])\n",
    "plt.show()"
   ]
  },
  {
   "cell_type": "markdown",
   "id": "7ec3c2e0",
   "metadata": {},
   "source": [
    "2개의 층 연결하기"
   ]
  },
  {
   "cell_type": "code",
   "execution_count": 11,
   "id": "5aa56759",
   "metadata": {},
   "outputs": [],
   "source": [
    "model3 = keras.Sequential()\n",
    "model3.add(keras.layers.Embedding(500, 16, input_length=100))\n",
    "model3.add(keras.layers.LSTM(8, dropout=0.3, return_sequences=True))\n",
    "model3.add(keras.layers.LSTM(8, dropout=0.3))\n",
    "model3.add(keras.layers.Dense(1, activation='sigmoid'))"
   ]
  },
  {
   "cell_type": "code",
   "execution_count": 13,
   "id": "53dfba50",
   "metadata": {},
   "outputs": [
    {
     "name": "stdout",
     "output_type": "stream",
     "text": [
      "Model: \"sequential_2\"\n",
      "_________________________________________________________________\n",
      " Layer (type)                Output Shape              Param #   \n",
      "=================================================================\n",
      " embedding_2 (Embedding)     (None, 100, 16)           8000      \n",
      "                                                                 \n",
      " lstm_2 (LSTM)               (None, 100, 8)            800       \n",
      "                                                                 \n",
      " lstm_3 (LSTM)               (None, 8)                 544       \n",
      "                                                                 \n",
      " dense_2 (Dense)             (None, 1)                 9         \n",
      "                                                                 \n",
      "=================================================================\n",
      "Total params: 9,353\n",
      "Trainable params: 9,353\n",
      "Non-trainable params: 0\n",
      "_________________________________________________________________\n"
     ]
    }
   ],
   "source": [
    "model3.summary()"
   ]
  },
  {
   "cell_type": "code",
   "execution_count": 14,
   "id": "9d898e05",
   "metadata": {},
   "outputs": [
    {
     "name": "stdout",
     "output_type": "stream",
     "text": [
      "Epoch 1/100\n",
      "313/313 [==============================] - 19s 52ms/step - loss: 0.6928 - accuracy: 0.5259 - val_loss: 0.6922 - val_accuracy: 0.5820\n",
      "Epoch 2/100\n",
      "313/313 [==============================] - 18s 59ms/step - loss: 0.6903 - accuracy: 0.6108 - val_loss: 0.6869 - val_accuracy: 0.6442\n",
      "Epoch 3/100\n",
      "313/313 [==============================] - 16s 51ms/step - loss: 0.6711 - accuracy: 0.6310 - val_loss: 0.6361 - val_accuracy: 0.6746\n",
      "Epoch 4/100\n",
      "313/313 [==============================] - 16s 51ms/step - loss: 0.6012 - accuracy: 0.7068 - val_loss: 0.5699 - val_accuracy: 0.7334\n",
      "Epoch 5/100\n",
      "313/313 [==============================] - 19s 60ms/step - loss: 0.5520 - accuracy: 0.7414 - val_loss: 0.5324 - val_accuracy: 0.7444\n",
      "Epoch 6/100\n",
      "313/313 [==============================] - 22s 70ms/step - loss: 0.5240 - accuracy: 0.7534 - val_loss: 0.5132 - val_accuracy: 0.7556\n",
      "Epoch 7/100\n",
      "313/313 [==============================] - 32s 101ms/step - loss: 0.5062 - accuracy: 0.7653 - val_loss: 0.4946 - val_accuracy: 0.7708\n",
      "Epoch 8/100\n",
      "313/313 [==============================] - 45s 143ms/step - loss: 0.4929 - accuracy: 0.7727 - val_loss: 0.4871 - val_accuracy: 0.7732\n",
      "Epoch 9/100\n",
      "313/313 [==============================] - 21s 66ms/step - loss: 0.4821 - accuracy: 0.7785 - val_loss: 0.4766 - val_accuracy: 0.7844\n",
      "Epoch 10/100\n",
      "313/313 [==============================] - 17s 53ms/step - loss: 0.4757 - accuracy: 0.7795 - val_loss: 0.4720 - val_accuracy: 0.7834\n",
      "Epoch 11/100\n",
      "313/313 [==============================] - 15s 48ms/step - loss: 0.4685 - accuracy: 0.7859 - val_loss: 0.4669 - val_accuracy: 0.7850\n",
      "Epoch 12/100\n",
      "313/313 [==============================] - 18s 57ms/step - loss: 0.4656 - accuracy: 0.7865 - val_loss: 0.4623 - val_accuracy: 0.7868\n",
      "Epoch 13/100\n",
      "313/313 [==============================] - 18s 58ms/step - loss: 0.4595 - accuracy: 0.7901 - val_loss: 0.4595 - val_accuracy: 0.7876\n",
      "Epoch 14/100\n",
      "313/313 [==============================] - 20s 62ms/step - loss: 0.4544 - accuracy: 0.7936 - val_loss: 0.4570 - val_accuracy: 0.7848\n",
      "Epoch 15/100\n",
      "313/313 [==============================] - 24s 77ms/step - loss: 0.4503 - accuracy: 0.7934 - val_loss: 0.4613 - val_accuracy: 0.7808\n",
      "Epoch 16/100\n",
      "313/313 [==============================] - 46s 148ms/step - loss: 0.4497 - accuracy: 0.7932 - val_loss: 0.4518 - val_accuracy: 0.7902\n",
      "Epoch 17/100\n",
      "313/313 [==============================] - 29s 92ms/step - loss: 0.4456 - accuracy: 0.7989 - val_loss: 0.4524 - val_accuracy: 0.7898\n",
      "Epoch 18/100\n",
      "313/313 [==============================] - 19s 60ms/step - loss: 0.4422 - accuracy: 0.7993 - val_loss: 0.4499 - val_accuracy: 0.7828\n",
      "Epoch 19/100\n",
      "313/313 [==============================] - 14s 46ms/step - loss: 0.4431 - accuracy: 0.7968 - val_loss: 0.4470 - val_accuracy: 0.7912\n",
      "Epoch 20/100\n",
      "313/313 [==============================] - 15s 47ms/step - loss: 0.4405 - accuracy: 0.7986 - val_loss: 0.4458 - val_accuracy: 0.7878\n",
      "Epoch 21/100\n",
      "313/313 [==============================] - 16s 50ms/step - loss: 0.4374 - accuracy: 0.8008 - val_loss: 0.4437 - val_accuracy: 0.7882\n",
      "Epoch 22/100\n",
      "313/313 [==============================] - 17s 54ms/step - loss: 0.4375 - accuracy: 0.8019 - val_loss: 0.4440 - val_accuracy: 0.7962\n",
      "Epoch 23/100\n",
      "313/313 [==============================] - 19s 60ms/step - loss: 0.4326 - accuracy: 0.8036 - val_loss: 0.4432 - val_accuracy: 0.7884\n",
      "Epoch 24/100\n",
      "313/313 [==============================] - 21s 68ms/step - loss: 0.4326 - accuracy: 0.8015 - val_loss: 0.4409 - val_accuracy: 0.7906\n",
      "Epoch 25/100\n",
      "313/313 [==============================] - 30s 97ms/step - loss: 0.4302 - accuracy: 0.8017 - val_loss: 0.4402 - val_accuracy: 0.7922\n",
      "Epoch 26/100\n",
      "313/313 [==============================] - 30s 97ms/step - loss: 0.4297 - accuracy: 0.8061 - val_loss: 0.4393 - val_accuracy: 0.7922\n",
      "Epoch 27/100\n",
      "313/313 [==============================] - 19s 61ms/step - loss: 0.4291 - accuracy: 0.8047 - val_loss: 0.4391 - val_accuracy: 0.7930\n",
      "Epoch 28/100\n",
      "313/313 [==============================] - 15s 49ms/step - loss: 0.4286 - accuracy: 0.8041 - val_loss: 0.4405 - val_accuracy: 0.7988\n",
      "Epoch 29/100\n",
      "313/313 [==============================] - 14s 45ms/step - loss: 0.4290 - accuracy: 0.8037 - val_loss: 0.4372 - val_accuracy: 0.7940\n",
      "Epoch 30/100\n",
      "313/313 [==============================] - 15s 48ms/step - loss: 0.4244 - accuracy: 0.8066 - val_loss: 0.4377 - val_accuracy: 0.7986\n",
      "Epoch 31/100\n",
      "313/313 [==============================] - 16s 51ms/step - loss: 0.4252 - accuracy: 0.8051 - val_loss: 0.4379 - val_accuracy: 0.7990\n",
      "Epoch 32/100\n",
      "313/313 [==============================] - 17s 55ms/step - loss: 0.4240 - accuracy: 0.8044 - val_loss: 0.4384 - val_accuracy: 0.7998\n"
     ]
    }
   ],
   "source": [
    "rmsprop = keras.optimizers.RMSprop(learning_rate=1e-4)\n",
    "model3.compile(optimizer=rmsprop, loss='binary_crossentropy', metrics=['accuracy'])\n",
    "checkpoint_cb = keras.callbacks.ModelCheckpoint('best-dropout-lstm-2layer-model.h5')\n",
    "early_stopping_cb = keras.callbacks.EarlyStopping(patience=3, restore_best_weights=True)\n",
    "history = model3.fit(train_seq, train_target, epochs=100, batch_size=64, validation_data=(val_seq, val_target),\n",
    "                    callbacks=[checkpoint_cb, early_stopping_cb])"
   ]
  },
  {
   "cell_type": "code",
   "execution_count": 15,
   "id": "68df7db0",
   "metadata": {},
   "outputs": [
    {
     "data": {
      "image/png": "[encoded data removed]",
      "text/plain": [
       "<Figure size 432x288 with 1 Axes>"
      ]
     },
     "metadata": {
      "needs_background": "light"
     },
     "output_type": "display_data"
    }
   ],
   "source": [
    "plt.plot(history.history['loss'])\n",
    "plt.plot(history.history['val_loss'])\n",
    "plt.xlabel('epoch')\n",
    "plt.ylabel('loss')\n",
    "plt.legend(['train','val'])\n",
    "plt.show()"
   ]
  },
  {
   "cell_type": "markdown",
   "id": "116272f1",
   "metadata": {},
   "source": [
    "GRU"
   ]
  },
  {
   "cell_type": "code",
   "execution_count": 18,
   "id": "85eb21ce",
   "metadata": {},
   "outputs": [],
   "source": [
    "model4 = keras.Sequential()\n",
    "model4.add(keras.layers.Embedding(500, 16, input_length=100))\n",
    "model4.add(keras.layers.GRU(8))\n",
    "model4.add(keras.layers.Dense(1, activation='sigmoid'))"
   ]
  },
  {
   "cell_type": "code",
   "execution_count": 19,
   "id": "9089456c",
   "metadata": {},
   "outputs": [
    {
     "name": "stdout",
     "output_type": "stream",
     "text": [
      "Model: \"sequential_4\"\n",
      "_________________________________________________________________\n",
      " Layer (type)                Output Shape              Param #   \n",
      "=================================================================\n",
      " embedding_4 (Embedding)     (None, 100, 16)           8000      \n",
      "                                                                 \n",
      " gru_1 (GRU)                 (None, 8)                 624       \n",
      "                                                                 \n",
      " dense_4 (Dense)             (None, 1)                 9         \n",
      "                                                                 \n",
      "=================================================================\n",
      "Total params: 8,633\n",
      "Trainable params: 8,633\n",
      "Non-trainable params: 0\n",
      "_________________________________________________________________\n"
     ]
    }
   ],
   "source": [
    "model4.summary()"
   ]
  },
  {
   "cell_type": "code",
   "execution_count": 20,
   "id": "17d1b534",
   "metadata": {},
   "outputs": [
    {
     "name": "stdout",
     "output_type": "stream",
     "text": [
      "Epoch 1/100\n",
      "313/313 [==============================] - 11s 29ms/step - loss: 0.6926 - accuracy: 0.5243 - val_loss: 0.6921 - val_accuracy: 0.5418\n",
      "Epoch 2/100\n",
      "313/313 [==============================] - 11s 35ms/step - loss: 0.6906 - accuracy: 0.5682 - val_loss: 0.6899 - val_accuracy: 0.5658\n",
      "Epoch 3/100\n",
      "313/313 [==============================] - 21s 69ms/step - loss: 0.6877 - accuracy: 0.5957 - val_loss: 0.6867 - val_accuracy: 0.5874\n",
      "Epoch 4/100\n",
      "313/313 [==============================] - 28s 91ms/step - loss: 0.6831 - accuracy: 0.6119 - val_loss: 0.6816 - val_accuracy: 0.5948\n",
      "Epoch 5/100\n",
      "313/313 [==============================] - 24s 76ms/step - loss: 0.6763 - accuracy: 0.6206 - val_loss: 0.6740 - val_accuracy: 0.6092\n",
      "Epoch 6/100\n",
      "313/313 [==============================] - 12s 38ms/step - loss: 0.6659 - accuracy: 0.6328 - val_loss: 0.6628 - val_accuracy: 0.6226\n",
      "Epoch 7/100\n",
      "313/313 [==============================] - 10s 32ms/step - loss: 0.6501 - accuracy: 0.6485 - val_loss: 0.6450 - val_accuracy: 0.6424\n",
      "Epoch 8/100\n",
      "313/313 [==============================] - 9s 30ms/step - loss: 0.6248 - accuracy: 0.6686 - val_loss: 0.6147 - val_accuracy: 0.6744\n",
      "Epoch 9/100\n",
      "313/313 [==============================] - 9s 28ms/step - loss: 0.5804 - accuracy: 0.7005 - val_loss: 0.5596 - val_accuracy: 0.7160\n",
      "Epoch 10/100\n",
      "313/313 [==============================] - 9s 27ms/step - loss: 0.5308 - accuracy: 0.7383 - val_loss: 0.5304 - val_accuracy: 0.7394\n",
      "Epoch 11/100\n",
      "313/313 [==============================] - 8s 26ms/step - loss: 0.5106 - accuracy: 0.7530 - val_loss: 0.5167 - val_accuracy: 0.7528\n",
      "Epoch 12/100\n",
      "313/313 [==============================] - 9s 29ms/step - loss: 0.4966 - accuracy: 0.7639 - val_loss: 0.5039 - val_accuracy: 0.7630\n",
      "Epoch 13/100\n",
      "313/313 [==============================] - 9s 30ms/step - loss: 0.4850 - accuracy: 0.7689 - val_loss: 0.4953 - val_accuracy: 0.7682\n",
      "Epoch 14/100\n",
      "313/313 [==============================] - 9s 30ms/step - loss: 0.4758 - accuracy: 0.7764 - val_loss: 0.4878 - val_accuracy: 0.7694\n",
      "Epoch 15/100\n",
      "313/313 [==============================] - 10s 31ms/step - loss: 0.4681 - accuracy: 0.7822 - val_loss: 0.4804 - val_accuracy: 0.7740\n",
      "Epoch 16/100\n",
      "313/313 [==============================] - 10s 32ms/step - loss: 0.4612 - accuracy: 0.7866 - val_loss: 0.4753 - val_accuracy: 0.7814\n",
      "Epoch 17/100\n",
      "313/313 [==============================] - 12s 38ms/step - loss: 0.4554 - accuracy: 0.7883 - val_loss: 0.4696 - val_accuracy: 0.7824\n",
      "Epoch 18/100\n",
      "313/313 [==============================] - 13s 40ms/step - loss: 0.4499 - accuracy: 0.7937 - val_loss: 0.4642 - val_accuracy: 0.7852\n",
      "Epoch 19/100\n",
      "313/313 [==============================] - 14s 45ms/step - loss: 0.4450 - accuracy: 0.7972 - val_loss: 0.4599 - val_accuracy: 0.7852\n",
      "Epoch 20/100\n",
      "313/313 [==============================] - 21s 68ms/step - loss: 0.4409 - accuracy: 0.8001 - val_loss: 0.4587 - val_accuracy: 0.7858\n",
      "Epoch 21/100\n",
      "313/313 [==============================] - 19s 61ms/step - loss: 0.4369 - accuracy: 0.8034 - val_loss: 0.4546 - val_accuracy: 0.7868\n",
      "Epoch 22/100\n",
      "313/313 [==============================] - 12s 37ms/step - loss: 0.4341 - accuracy: 0.8024 - val_loss: 0.4541 - val_accuracy: 0.7896\n",
      "Epoch 23/100\n",
      "313/313 [==============================] - 9s 30ms/step - loss: 0.4315 - accuracy: 0.8045 - val_loss: 0.4510 - val_accuracy: 0.7926\n",
      "Epoch 24/100\n",
      "313/313 [==============================] - 9s 29ms/step - loss: 0.4289 - accuracy: 0.8059 - val_loss: 0.4501 - val_accuracy: 0.7890\n",
      "Epoch 25/100\n",
      "313/313 [==============================] - 8s 27ms/step - loss: 0.4267 - accuracy: 0.8067 - val_loss: 0.4503 - val_accuracy: 0.7964\n",
      "Epoch 26/100\n",
      "313/313 [==============================] - 8s 26ms/step - loss: 0.4249 - accuracy: 0.8074 - val_loss: 0.4469 - val_accuracy: 0.7918\n",
      "Epoch 27/100\n",
      "313/313 [==============================] - 9s 30ms/step - loss: 0.4231 - accuracy: 0.8106 - val_loss: 0.4454 - val_accuracy: 0.7954\n",
      "Epoch 28/100\n",
      "313/313 [==============================] - 9s 28ms/step - loss: 0.4219 - accuracy: 0.8105 - val_loss: 0.4454 - val_accuracy: 0.7960\n",
      "Epoch 29/100\n",
      "313/313 [==============================] - 9s 30ms/step - loss: 0.4203 - accuracy: 0.8117 - val_loss: 0.4438 - val_accuracy: 0.7948\n",
      "Epoch 30/100\n",
      "313/313 [==============================] - 9s 30ms/step - loss: 0.4191 - accuracy: 0.8115 - val_loss: 0.4437 - val_accuracy: 0.7938\n",
      "Epoch 31/100\n",
      "313/313 [==============================] - 11s 34ms/step - loss: 0.4181 - accuracy: 0.8127 - val_loss: 0.4427 - val_accuracy: 0.7952\n",
      "Epoch 32/100\n",
      "313/313 [==============================] - 12s 39ms/step - loss: 0.4173 - accuracy: 0.8136 - val_loss: 0.4441 - val_accuracy: 0.7978\n",
      "Epoch 33/100\n",
      "313/313 [==============================] - 12s 40ms/step - loss: 0.4165 - accuracy: 0.8128 - val_loss: 0.4435 - val_accuracy: 0.7932\n",
      "Epoch 34/100\n",
      "313/313 [==============================] - 12s 39ms/step - loss: 0.4156 - accuracy: 0.8156 - val_loss: 0.4434 - val_accuracy: 0.7990\n"
     ]
    }
   ],
   "source": [
    "rmsprop = keras.optimizers.RMSprop(learning_rate=1e-4)\n",
    "model4.compile(optimizer=rmsprop, loss='binary_crossentropy', metrics=['accuracy'])\n",
    "checkpoint_cb = keras.callbacks.ModelCheckpoint('best-dropout-gru-model.h5')\n",
    "early_stopping_cb = keras.callbacks.EarlyStopping(patience=3, restore_best_weights=True)\n",
    "history = model4.fit(train_seq, train_target, epochs=100, batch_size=64, validation_data=(val_seq, val_target),\n",
    "                    callbacks=[checkpoint_cb, early_stopping_cb])"
   ]
  },
  {
   "cell_type": "code",
   "execution_count": 21,
   "id": "433ece26",
   "metadata": {},
   "outputs": [
    {
     "data": {
      "image/png": "[encoded data removed]",
      "text/plain": [
       "<Figure size 432x288 with 1 Axes>"
      ]
     },
     "metadata": {
      "needs_background": "light"
     },
     "output_type": "display_data"
    }
   ],
   "source": [
    "plt.plot(history.history['loss'])\n",
    "plt.plot(history.history['val_loss'])\n",
    "plt.xlabel('epoch')\n",
    "plt.ylabel('loss')\n",
    "plt.legend(['train','val'])\n",
    "plt.show()"
   ]
  },
  {
   "cell_type": "code",
   "execution_count": 23,
   "id": "9841009a",
   "metadata": {},
   "outputs": [
    {
     "name": "stdout",
     "output_type": "stream",
     "text": [
      "157/157 [==============================] - 3s 14ms/step - loss: 0.4384 - accuracy: 0.7998\n"
     ]
    },
    {
     "data": {
      "text/plain": [
       "[0.4383954107761383, 0.7997999787330627]"
      ]
     },
     "execution_count": 23,
     "metadata": {},
     "output_type": "execute_result"
    }
   ],
   "source": [
    "test_seq = pad_sequences(test_input, maxlen=100)\n",
    "rnn_model = keras.models.load_model('best-dropout-lstm-2layer-model.h5')\n",
    "rnn_model.evaluate(val_seq, val_target)"
   ]
  },
  {
   "cell_type": "code",
   "execution_count": null,
   "id": "149f3479",
   "metadata": {},
   "outputs": [],
   "source": []
  }
 ],
 "metadata": {
  "kernelspec": {
   "display_name": "Python 3 (ipykernel)",
   "language": "python",
   "name": "python3"
  },
  "language_info": {
   "codemirror_mode": {
    "name": "ipython",
    "version": 3
   },
   "file_extension": ".py",
   "mimetype": "text/x-python",
   "name": "python",
   "nbconvert_exporter": "python",
   "pygments_lexer": "ipython3",
   "version": "3.7.13"
  }
 },
 "nbformat": 4,
 "nbformat_minor": 5
}

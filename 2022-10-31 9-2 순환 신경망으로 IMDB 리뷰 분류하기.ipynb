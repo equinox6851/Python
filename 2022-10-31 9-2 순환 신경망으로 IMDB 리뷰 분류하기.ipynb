{
 "cells": [
  {
   "cell_type": "markdown",
   "id": "228981b8",
   "metadata": {},
   "source": [
    "9-1 순차 데이터와 순환신경망 부분은 이론 설명만 있어서 코드는 따로 없었음!"
   ]
  },
  {
   "cell_type": "markdown",
   "id": "a79552c1",
   "metadata": {},
   "source": [
    "토큰에 할당되는 정수중에 0은 패딩, 1은 문장의 시작, 2는 어휘 사전에 없는 토큰"
   ]
  },
  {
   "cell_type": "code",
   "execution_count": 2,
   "id": "55874187",
   "metadata": {},
   "outputs": [],
   "source": [
    "from tensorflow.keras.datasets import imdb\n",
    "\n",
    "(train_input, train_target), (test_input, test_target) = imdb.load_data(num_words=500)"
   ]
  },
  {
   "cell_type": "code",
   "execution_count": 4,
   "id": "76df389e",
   "metadata": {},
   "outputs": [
    {
     "name": "stdout",
     "output_type": "stream",
     "text": [
      "(25000,) (25000,)\n"
     ]
    }
   ],
   "source": [
    "print(train_input.shape, test_input.shape)"
   ]
  },
  {
   "cell_type": "code",
   "execution_count": 8,
   "id": "5be6f51f",
   "metadata": {},
   "outputs": [
    {
     "name": "stdout",
     "output_type": "stream",
     "text": [
      "[1, 14, 22, 16, 43, 2, 2, 2, 2, 65, 458, 2, 66, 2, 4, 173, 36, 256, 5, 25, 100, 43, 2, 112, 50, 2, 2, 9, 35, 480, 284, 5, 150, 4, 172, 112, 167, 2, 336, 385, 39, 4, 172, 2, 2, 17, 2, 38, 13, 447, 4, 192, 50, 16, 6, 147, 2, 19, 14, 22, 4, 2, 2, 469, 4, 22, 71, 87, 12, 16, 43, 2, 38, 76, 15, 13, 2, 4, 22, 17, 2, 17, 12, 16, 2, 18, 2, 5, 62, 386, 12, 8, 316, 8, 106, 5, 4, 2, 2, 16, 480, 66, 2, 33, 4, 130, 12, 16, 38, 2, 5, 25, 124, 51, 36, 135, 48, 25, 2, 33, 6, 22, 12, 215, 28, 77, 52, 5, 14, 407, 16, 82, 2, 8, 4, 107, 117, 2, 15, 256, 4, 2, 7, 2, 5, 2, 36, 71, 43, 2, 476, 26, 400, 317, 46, 7, 4, 2, 2, 13, 104, 88, 4, 381, 15, 297, 98, 32, 2, 56, 26, 141, 6, 194, 2, 18, 4, 226, 22, 21, 134, 476, 26, 480, 5, 144, 30, 2, 18, 51, 36, 28, 224, 92, 25, 104, 4, 226, 65, 16, 38, 2, 88, 12, 16, 283, 5, 16, 2, 113, 103, 32, 15, 16, 2, 19, 178, 32]\n"
     ]
    }
   ],
   "source": [
    "print(train_input[0])"
   ]
  },
  {
   "cell_type": "code",
   "execution_count": 6,
   "id": "9f83a128",
   "metadata": {},
   "outputs": [
    {
     "name": "stdout",
     "output_type": "stream",
     "text": [
      "218\n"
     ]
    }
   ],
   "source": [
    "print(len(train_input[0]))"
   ]
  },
  {
   "cell_type": "code",
   "execution_count": 7,
   "id": "b135ea4a",
   "metadata": {},
   "outputs": [
    {
     "name": "stdout",
     "output_type": "stream",
     "text": [
      "189\n"
     ]
    }
   ],
   "source": [
    "print(len(train_input[1]))"
   ]
  },
  {
   "cell_type": "code",
   "execution_count": 9,
   "id": "2d7609dc",
   "metadata": {},
   "outputs": [
    {
     "name": "stdout",
     "output_type": "stream",
     "text": [
      "[1 0 0 1 0 0 1 0 1 0 1 0 0 0 0 0 1 1 0 1]\n"
     ]
    }
   ],
   "source": [
    "print(train_target[:20])"
   ]
  },
  {
   "cell_type": "code",
   "execution_count": 10,
   "id": "57568517",
   "metadata": {},
   "outputs": [],
   "source": [
    "from sklearn.model_selection import train_test_split\n",
    "\n",
    "train_input, val_input, train_target, val_target = train_test_split(train_input, train_target, test_size=0.2, random_state=42)"
   ]
  },
  {
   "cell_type": "code",
   "execution_count": 11,
   "id": "b674e016",
   "metadata": {},
   "outputs": [],
   "source": [
    "import numpy as np\n",
    "lengths = np.array([len(x) for x in train_input])"
   ]
  },
  {
   "cell_type": "code",
   "execution_count": 12,
   "id": "efb47d43",
   "metadata": {},
   "outputs": [
    {
     "data": {
      "text/plain": [
       "array([259, 520, 290, ..., 300,  70,  77])"
      ]
     },
     "execution_count": 12,
     "metadata": {},
     "output_type": "execute_result"
    }
   ],
   "source": [
    "lengths"
   ]
  },
  {
   "cell_type": "code",
   "execution_count": 13,
   "id": "80cd2ee3",
   "metadata": {},
   "outputs": [
    {
     "name": "stdout",
     "output_type": "stream",
     "text": [
      "239.00925 178.0\n"
     ]
    }
   ],
   "source": [
    "print(np.mean(lengths), np.median(lengths))"
   ]
  },
  {
   "cell_type": "code",
   "execution_count": 14,
   "id": "5faab8a6",
   "metadata": {},
   "outputs": [
    {
     "data": {
      "image/png": "[encoded data removed]",
      "text/plain": [
       "<Figure size 432x288 with 1 Axes>"
      ]
     },
     "metadata": {
      "needs_background": "light"
     },
     "output_type": "display_data"
    }
   ],
   "source": [
    "import matplotlib.pyplot as plt\n",
    "\n",
    "plt.hist(lengths)\n",
    "plt.xlabel('length')\n",
    "plt.ylabel('frequency')\n",
    "plt.show()"
   ]
  },
  {
   "cell_type": "markdown",
   "id": "9cc490dd",
   "metadata": {},
   "source": [
    "100개로 리뷰의 길이를 맞춰주자! \n",
    "\n",
    "이거보다 작은거는 padding으로 0 채워주기\n",
    "\n",
    "pad_sequence()함수"
   ]
  },
  {
   "cell_type": "code",
   "execution_count": 16,
   "id": "e7838bdc",
   "metadata": {},
   "outputs": [],
   "source": [
    "from tensorflow.keras.preprocessing.sequence import pad_sequences\n",
    "\n",
    "train_seq = pad_sequences(train_input, maxlen=100)"
   ]
  },
  {
   "cell_type": "code",
   "execution_count": 17,
   "id": "787e6bb2",
   "metadata": {},
   "outputs": [
    {
     "name": "stdout",
     "output_type": "stream",
     "text": [
      "(20000, 100)\n"
     ]
    }
   ],
   "source": [
    "print(train_seq.shape)"
   ]
  },
  {
   "cell_type": "code",
   "execution_count": 18,
   "id": "7390f9cb",
   "metadata": {},
   "outputs": [
    {
     "name": "stdout",
     "output_type": "stream",
     "text": [
      "[ 10   4  20   9   2 364 352   5  45   6   2   2  33 269   8   2 142   2\n",
      "   5   2  17  73  17 204   5   2  19  55   2   2  92  66 104  14  20  93\n",
      "  76   2 151  33   4  58  12 188   2 151  12 215  69 224 142  73 237   6\n",
      "   2   7   2   2 188   2 103  14  31  10  10 451   7   2   5   2  80  91\n",
      "   2  30   2  34  14  20 151  50  26 131  49   2  84  46  50  37  80  79\n",
      "   6   2  46   7  14  20  10  10 470 158]\n"
     ]
    }
   ],
   "source": [
    "print(train_seq[0])"
   ]
  },
  {
   "cell_type": "code",
   "execution_count": 20,
   "id": "36a75a07",
   "metadata": {},
   "outputs": [
    {
     "name": "stdout",
     "output_type": "stream",
     "text": [
      "[6, 2, 46, 7, 14, 20, 10, 10, 470, 158]\n"
     ]
    }
   ],
   "source": [
    "print(train_input[0][-10:])"
   ]
  },
  {
   "cell_type": "markdown",
   "id": "efe4d360",
   "metadata": {},
   "source": [
    "샘플의 앞에서 잘렸다!\n",
    "\n",
    "시퀀스의 뒷부분의 정보가 더 유용하리라 기대하기 때문\n",
    "\n",
    "pad_sequence()의 parameter truncating을 post로 지정시 뒤에서 부터 짜른다고함"
   ]
  },
  {
   "cell_type": "markdown",
   "id": "58078d70",
   "metadata": {},
   "source": [
    "같은 이유로 패딩도 앞에서부터 추가가 된다. \n",
    "\n",
    "시퀀스의 맨 마지막 부분이 hidden state에 가장 많은 영향을 미치게 되기때문에"
   ]
  },
  {
   "cell_type": "code",
   "execution_count": 23,
   "id": "8e18f8bd",
   "metadata": {},
   "outputs": [],
   "source": [
    "val_seq = pad_sequences(val_input, maxlen=100)"
   ]
  },
  {
   "cell_type": "markdown",
   "id": "af5374c5",
   "metadata": {},
   "source": [
    "순환 신경망 만들기"
   ]
  },
  {
   "cell_type": "code",
   "execution_count": 24,
   "id": "7eb96bcb",
   "metadata": {},
   "outputs": [],
   "source": [
    "from tensorflow import keras\n",
    "\n",
    "model = keras.Sequential()\n",
    "model.add(keras.layers.SimpleRNN(8, input_shape=(100,500))) # activation tanh default\n",
    "model.add(keras.layers.Dense(1, activation='sigmoid'))"
   ]
  },
  {
   "cell_type": "markdown",
   "id": "4b67027b",
   "metadata": {},
   "source": [
    "원핫 인코딩 해줘야함! 500차원"
   ]
  },
  {
   "cell_type": "code",
   "execution_count": 25,
   "id": "c3ddd95c",
   "metadata": {},
   "outputs": [],
   "source": [
    "train_oh = keras.utils.to_categorical(train_seq)"
   ]
  },
  {
   "cell_type": "code",
   "execution_count": 26,
   "id": "2bfc9273",
   "metadata": {},
   "outputs": [
    {
     "name": "stdout",
     "output_type": "stream",
     "text": [
      "(20000, 100, 500)\n"
     ]
    }
   ],
   "source": [
    "print(train_oh.shape)"
   ]
  },
  {
   "cell_type": "code",
   "execution_count": 27,
   "id": "49252d0e",
   "metadata": {},
   "outputs": [
    {
     "name": "stdout",
     "output_type": "stream",
     "text": [
      "[0. 0. 0. 0. 0. 0. 0. 0. 0. 0. 1. 0.]\n"
     ]
    }
   ],
   "source": [
    "print(train_oh[0][0][:12])"
   ]
  },
  {
   "cell_type": "code",
   "execution_count": 29,
   "id": "59fe6753",
   "metadata": {},
   "outputs": [
    {
     "name": "stdout",
     "output_type": "stream",
     "text": [
      "1.0\n"
     ]
    }
   ],
   "source": [
    "print(np.sum(train_oh[0][0]))"
   ]
  },
  {
   "cell_type": "code",
   "execution_count": 30,
   "id": "7f9a4b08",
   "metadata": {},
   "outputs": [],
   "source": [
    "val_oh = keras.utils.to_categorical(val_seq)"
   ]
  },
  {
   "cell_type": "code",
   "execution_count": 31,
   "id": "0202c5d5",
   "metadata": {},
   "outputs": [
    {
     "name": "stdout",
     "output_type": "stream",
     "text": [
      "Model: \"sequential\"\n",
      "_________________________________________________________________\n",
      " Layer (type)                Output Shape              Param #   \n",
      "=================================================================\n",
      " simple_rnn (SimpleRNN)      (None, 8)                 4072      \n",
      "                                                                 \n",
      " dense (Dense)               (None, 1)                 9         \n",
      "                                                                 \n",
      "=================================================================\n",
      "Total params: 4,081\n",
      "Trainable params: 4,081\n",
      "Non-trainable params: 0\n",
      "_________________________________________________________________\n"
     ]
    }
   ],
   "source": [
    "model.summary()"
   ]
  },
  {
   "cell_type": "code",
   "execution_count": 33,
   "id": "dc71f505",
   "metadata": {},
   "outputs": [
    {
     "name": "stdout",
     "output_type": "stream",
     "text": [
      "Epoch 1/100\n",
      "313/313 [==============================] - 6s 15ms/step - loss: 0.7009 - accuracy: 0.5006 - val_loss: 0.7009 - val_accuracy: 0.4902\n",
      "Epoch 2/100\n",
      "313/313 [==============================] - 5s 15ms/step - loss: 0.6964 - accuracy: 0.5062 - val_loss: 0.6982 - val_accuracy: 0.4936\n",
      "Epoch 3/100\n",
      "313/313 [==============================] - 5s 16ms/step - loss: 0.6937 - accuracy: 0.5160 - val_loss: 0.6963 - val_accuracy: 0.4988\n",
      "Epoch 4/100\n",
      "313/313 [==============================] - 5s 17ms/step - loss: 0.6916 - accuracy: 0.5227 - val_loss: 0.6949 - val_accuracy: 0.5004\n",
      "Epoch 5/100\n",
      "313/313 [==============================] - 5s 17ms/step - loss: 0.6899 - accuracy: 0.5311 - val_loss: 0.6938 - val_accuracy: 0.5042\n",
      "Epoch 6/100\n",
      "313/313 [==============================] - 5s 17ms/step - loss: 0.6883 - accuracy: 0.5390 - val_loss: 0.6929 - val_accuracy: 0.5084\n",
      "Epoch 7/100\n",
      "313/313 [==============================] - 6s 19ms/step - loss: 0.6868 - accuracy: 0.5455 - val_loss: 0.6921 - val_accuracy: 0.5106\n",
      "Epoch 8/100\n",
      "313/313 [==============================] - 6s 18ms/step - loss: 0.6853 - accuracy: 0.5509 - val_loss: 0.6914 - val_accuracy: 0.5144\n",
      "Epoch 9/100\n",
      "313/313 [==============================] - 6s 18ms/step - loss: 0.6838 - accuracy: 0.5564 - val_loss: 0.6908 - val_accuracy: 0.5174\n",
      "Epoch 10/100\n",
      "313/313 [==============================] - 6s 19ms/step - loss: 0.6823 - accuracy: 0.5612 - val_loss: 0.6904 - val_accuracy: 0.5218\n",
      "Epoch 11/100\n",
      "313/313 [==============================] - 6s 18ms/step - loss: 0.6808 - accuracy: 0.5651 - val_loss: 0.6900 - val_accuracy: 0.5260\n",
      "Epoch 12/100\n",
      "313/313 [==============================] - 6s 18ms/step - loss: 0.6793 - accuracy: 0.5717 - val_loss: 0.6897 - val_accuracy: 0.5294\n",
      "Epoch 13/100\n",
      "313/313 [==============================] - 6s 20ms/step - loss: 0.6777 - accuracy: 0.5742 - val_loss: 0.6894 - val_accuracy: 0.5318\n",
      "Epoch 14/100\n",
      "313/313 [==============================] - 9s 27ms/step - loss: 0.6761 - accuracy: 0.5792 - val_loss: 0.6892 - val_accuracy: 0.5336\n",
      "Epoch 15/100\n",
      "313/313 [==============================] - 9s 30ms/step - loss: 0.6745 - accuracy: 0.5832 - val_loss: 0.6890 - val_accuracy: 0.5366\n",
      "Epoch 16/100\n",
      "313/313 [==============================] - 10s 30ms/step - loss: 0.6729 - accuracy: 0.5849 - val_loss: 0.6889 - val_accuracy: 0.5336\n",
      "Epoch 17/100\n",
      "313/313 [==============================] - 11s 35ms/step - loss: 0.6712 - accuracy: 0.5872 - val_loss: 0.6889 - val_accuracy: 0.5362\n",
      "Epoch 18/100\n",
      "313/313 [==============================] - 14s 46ms/step - loss: 0.6695 - accuracy: 0.5901 - val_loss: 0.6888 - val_accuracy: 0.5374\n",
      "Epoch 19/100\n",
      "313/313 [==============================] - 14s 46ms/step - loss: 0.6677 - accuracy: 0.5946 - val_loss: 0.6888 - val_accuracy: 0.5362\n",
      "Epoch 20/100\n",
      "313/313 [==============================] - 9s 28ms/step - loss: 0.6660 - accuracy: 0.5964 - val_loss: 0.6889 - val_accuracy: 0.5408\n",
      "Epoch 21/100\n",
      "313/313 [==============================] - 7s 22ms/step - loss: 0.6643 - accuracy: 0.5994 - val_loss: 0.6889 - val_accuracy: 0.5404\n",
      "Epoch 22/100\n",
      "313/313 [==============================] - 7s 21ms/step - loss: 0.6625 - accuracy: 0.6031 - val_loss: 0.6890 - val_accuracy: 0.5378\n"
     ]
    }
   ],
   "source": [
    "rmsprop = keras.optimizers.RMSprop(learning_rate=1e-4)\n",
    "model.compile(optimizer=rmsprop, loss='binary_crossentropy', metrics=['accuracy'])\n",
    "checkpoint_cb = keras.callbacks.ModelCheckpoint('best-simplernn-model.h5')\n",
    "early_stoppint_cb = keras.callbacks.EarlyStopping(patience=3, restore_best_weights=True)\n",
    "history = model.fit(train_oh, train_target, epochs=100, batch_size=64, validation_data=(val_oh,val_target), \\\n",
    "                   callbacks=[checkpoint_cb, early_stoppint_cb])"
   ]
  },
  {
   "cell_type": "code",
   "execution_count": 34,
   "id": "0333b34c",
   "metadata": {},
   "outputs": [
    {
     "data": {
      "image/png": "[encoded data removed]",
      "text/plain": [
       "<Figure size 432x288 with 1 Axes>"
      ]
     },
     "metadata": {
      "needs_background": "light"
     },
     "output_type": "display_data"
    }
   ],
   "source": [
    "plt.plot(history.history['loss'])\n",
    "plt.plot(history.history['val_loss'])\n",
    "plt.xlabel('epoch')\n",
    "plt.ylabel('loss')\n",
    "plt.legend(['train', 'val'])\n",
    "plt.show()"
   ]
  },
  {
   "cell_type": "code",
   "execution_count": 35,
   "id": "4536dec0",
   "metadata": {},
   "outputs": [
    {
     "name": "stdout",
     "output_type": "stream",
     "text": [
      "8000000 4000000000\n"
     ]
    }
   ],
   "source": [
    "print(train_seq.nbytes, train_oh.nbytes)"
   ]
  },
  {
   "cell_type": "markdown",
   "id": "ded40b6a",
   "metadata": {},
   "source": [
    "단어 임베딩 사용하기"
   ]
  },
  {
   "cell_type": "code",
   "execution_count": 51,
   "id": "bc1fd7d0",
   "metadata": {},
   "outputs": [],
   "source": [
    "model2 = keras.Sequential()\n",
    "model2.add(keras.layers.Embedding(500, 16, input_length=100))\n",
    "model2.add(keras.layers.SimpleRNN(8)) # activation tanh default\n",
    "model2.add(keras.layers.Dense(1, activation='sigmoid'))"
   ]
  },
  {
   "cell_type": "code",
   "execution_count": 52,
   "id": "9dad85e3",
   "metadata": {},
   "outputs": [
    {
     "name": "stdout",
     "output_type": "stream",
     "text": [
      "Model: \"sequential_2\"\n",
      "_________________________________________________________________\n",
      " Layer (type)                Output Shape              Param #   \n",
      "=================================================================\n",
      " embedding_1 (Embedding)     (None, 100, 16)           8000      \n",
      "                                                                 \n",
      " simple_rnn_2 (SimpleRNN)    (None, 8)                 200       \n",
      "                                                                 \n",
      " dense_2 (Dense)             (None, 1)                 9         \n",
      "                                                                 \n",
      "=================================================================\n",
      "Total params: 8,209\n",
      "Trainable params: 8,209\n",
      "Non-trainable params: 0\n",
      "_________________________________________________________________\n"
     ]
    }
   ],
   "source": [
    "model2.summary()"
   ]
  },
  {
   "cell_type": "code",
   "execution_count": 53,
   "id": "3bb3ed1e",
   "metadata": {
    "scrolled": false
   },
   "outputs": [
    {
     "name": "stdout",
     "output_type": "stream",
     "text": [
      "Epoch 1/100\n",
      "313/313 [==============================] - 5s 12ms/step - loss: 0.6959 - accuracy: 0.5051 - val_loss: 0.6933 - val_accuracy: 0.5192\n",
      "Epoch 2/100\n",
      "313/313 [==============================] - 4s 12ms/step - loss: 0.6904 - accuracy: 0.5264 - val_loss: 0.6907 - val_accuracy: 0.5284\n",
      "Epoch 3/100\n",
      "313/313 [==============================] - 4s 13ms/step - loss: 0.6862 - accuracy: 0.5466 - val_loss: 0.6886 - val_accuracy: 0.5416\n",
      "Epoch 4/100\n",
      "313/313 [==============================] - 4s 14ms/step - loss: 0.6823 - accuracy: 0.5685 - val_loss: 0.6868 - val_accuracy: 0.5458\n",
      "Epoch 5/100\n",
      "313/313 [==============================] - 5s 16ms/step - loss: 0.6785 - accuracy: 0.5783 - val_loss: 0.6852 - val_accuracy: 0.5512\n",
      "Epoch 6/100\n",
      "313/313 [==============================] - 5s 15ms/step - loss: 0.6748 - accuracy: 0.5864 - val_loss: 0.6837 - val_accuracy: 0.5496\n",
      "Epoch 7/100\n",
      "313/313 [==============================] - 6s 18ms/step - loss: 0.6713 - accuracy: 0.5943 - val_loss: 0.6826 - val_accuracy: 0.5536\n",
      "Epoch 8/100\n",
      "313/313 [==============================] - 6s 19ms/step - loss: 0.6678 - accuracy: 0.6011 - val_loss: 0.6811 - val_accuracy: 0.5562\n",
      "Epoch 9/100\n",
      "313/313 [==============================] - 6s 19ms/step - loss: 0.6645 - accuracy: 0.6064 - val_loss: 0.6802 - val_accuracy: 0.5544\n",
      "Epoch 10/100\n",
      "313/313 [==============================] - 5s 17ms/step - loss: 0.6612 - accuracy: 0.6119 - val_loss: 0.6793 - val_accuracy: 0.5594\n",
      "Epoch 11/100\n",
      "313/313 [==============================] - 6s 18ms/step - loss: 0.6579 - accuracy: 0.6171 - val_loss: 0.6780 - val_accuracy: 0.5622\n",
      "Epoch 12/100\n",
      "313/313 [==============================] - 6s 19ms/step - loss: 0.6547 - accuracy: 0.6195 - val_loss: 0.6770 - val_accuracy: 0.5646\n",
      "Epoch 13/100\n",
      "313/313 [==============================] - 6s 18ms/step - loss: 0.6516 - accuracy: 0.6242 - val_loss: 0.6760 - val_accuracy: 0.5650\n",
      "Epoch 14/100\n",
      "313/313 [==============================] - 6s 18ms/step - loss: 0.6485 - accuracy: 0.6283 - val_loss: 0.6755 - val_accuracy: 0.5680\n",
      "Epoch 15/100\n",
      "313/313 [==============================] - 5s 16ms/step - loss: 0.6455 - accuracy: 0.6298 - val_loss: 0.6747 - val_accuracy: 0.5658\n",
      "Epoch 16/100\n",
      "313/313 [==============================] - 6s 19ms/step - loss: 0.6425 - accuracy: 0.6334 - val_loss: 0.6739 - val_accuracy: 0.5722\n",
      "Epoch 17/100\n",
      "313/313 [==============================] - 7s 21ms/step - loss: 0.6396 - accuracy: 0.6363 - val_loss: 0.6735 - val_accuracy: 0.5734\n",
      "Epoch 18/100\n",
      "313/313 [==============================] - 7s 21ms/step - loss: 0.6366 - accuracy: 0.6400 - val_loss: 0.6727 - val_accuracy: 0.5756\n",
      "Epoch 19/100\n",
      "313/313 [==============================] - 11s 34ms/step - loss: 0.6339 - accuracy: 0.6411 - val_loss: 0.6725 - val_accuracy: 0.5756\n",
      "Epoch 20/100\n",
      "313/313 [==============================] - 10s 32ms/step - loss: 0.6311 - accuracy: 0.6442 - val_loss: 0.6719 - val_accuracy: 0.5752\n",
      "Epoch 21/100\n",
      "313/313 [==============================] - 11s 34ms/step - loss: 0.6282 - accuracy: 0.6480 - val_loss: 0.6713 - val_accuracy: 0.5800\n",
      "Epoch 22/100\n",
      "313/313 [==============================] - 12s 39ms/step - loss: 0.6253 - accuracy: 0.6504 - val_loss: 0.6707 - val_accuracy: 0.5796\n",
      "Epoch 23/100\n",
      "313/313 [==============================] - 9s 30ms/step - loss: 0.6226 - accuracy: 0.6537 - val_loss: 0.6714 - val_accuracy: 0.5780\n",
      "Epoch 24/100\n",
      "313/313 [==============================] - 7s 22ms/step - loss: 0.6198 - accuracy: 0.6564 - val_loss: 0.6714 - val_accuracy: 0.5786\n",
      "Epoch 25/100\n",
      "313/313 [==============================] - 6s 19ms/step - loss: 0.6169 - accuracy: 0.6607 - val_loss: 0.6696 - val_accuracy: 0.5828\n",
      "Epoch 26/100\n",
      "313/313 [==============================] - 6s 19ms/step - loss: 0.6138 - accuracy: 0.6635 - val_loss: 0.6688 - val_accuracy: 0.5824\n",
      "Epoch 27/100\n",
      "313/313 [==============================] - 5s 17ms/step - loss: 0.6109 - accuracy: 0.6670 - val_loss: 0.6675 - val_accuracy: 0.5878\n",
      "Epoch 28/100\n",
      "313/313 [==============================] - 5s 16ms/step - loss: 0.6080 - accuracy: 0.6717 - val_loss: 0.6672 - val_accuracy: 0.5908\n",
      "Epoch 29/100\n",
      "313/313 [==============================] - 5s 16ms/step - loss: 0.6048 - accuracy: 0.6756 - val_loss: 0.6662 - val_accuracy: 0.5914\n",
      "Epoch 30/100\n",
      "313/313 [==============================] - 5s 15ms/step - loss: 0.6019 - accuracy: 0.6775 - val_loss: 0.6652 - val_accuracy: 0.5928\n",
      "Epoch 31/100\n",
      "313/313 [==============================] - 5s 14ms/step - loss: 0.5987 - accuracy: 0.6805 - val_loss: 0.6654 - val_accuracy: 0.5890\n",
      "Epoch 32/100\n",
      "313/313 [==============================] - 5s 15ms/step - loss: 0.5957 - accuracy: 0.6850 - val_loss: 0.6638 - val_accuracy: 0.5926\n",
      "Epoch 33/100\n",
      "313/313 [==============================] - 4s 14ms/step - loss: 0.5923 - accuracy: 0.6884 - val_loss: 0.6618 - val_accuracy: 0.6010\n",
      "Epoch 34/100\n",
      "313/313 [==============================] - 4s 14ms/step - loss: 0.5887 - accuracy: 0.6910 - val_loss: 0.6605 - val_accuracy: 0.6024\n",
      "Epoch 35/100\n",
      "313/313 [==============================] - 5s 15ms/step - loss: 0.5854 - accuracy: 0.6948 - val_loss: 0.6610 - val_accuracy: 0.5974\n",
      "Epoch 36/100\n",
      "313/313 [==============================] - 5s 15ms/step - loss: 0.5818 - accuracy: 0.6989 - val_loss: 0.6600 - val_accuracy: 0.5996\n",
      "Epoch 37/100\n",
      "313/313 [==============================] - 5s 15ms/step - loss: 0.5782 - accuracy: 0.7021 - val_loss: 0.6571 - val_accuracy: 0.6078\n",
      "Epoch 38/100\n",
      "313/313 [==============================] - 5s 15ms/step - loss: 0.5745 - accuracy: 0.7064 - val_loss: 0.6549 - val_accuracy: 0.6132\n",
      "Epoch 39/100\n",
      "313/313 [==============================] - 5s 15ms/step - loss: 0.5707 - accuracy: 0.7092 - val_loss: 0.6552 - val_accuracy: 0.6098\n",
      "Epoch 40/100\n",
      "313/313 [==============================] - 5s 15ms/step - loss: 0.5671 - accuracy: 0.7159 - val_loss: 0.6531 - val_accuracy: 0.6132\n",
      "Epoch 41/100\n",
      "313/313 [==============================] - 5s 15ms/step - loss: 0.5632 - accuracy: 0.7178 - val_loss: 0.6560 - val_accuracy: 0.6098\n",
      "Epoch 42/100\n",
      "313/313 [==============================] - 5s 16ms/step - loss: 0.5593 - accuracy: 0.7195 - val_loss: 0.6505 - val_accuracy: 0.6170\n",
      "Epoch 43/100\n",
      "313/313 [==============================] - 5s 15ms/step - loss: 0.5553 - accuracy: 0.7237 - val_loss: 0.6505 - val_accuracy: 0.6182\n",
      "Epoch 44/100\n",
      "313/313 [==============================] - 5s 15ms/step - loss: 0.5518 - accuracy: 0.7250 - val_loss: 0.6494 - val_accuracy: 0.6214\n",
      "Epoch 45/100\n",
      "313/313 [==============================] - 5s 15ms/step - loss: 0.5476 - accuracy: 0.7299 - val_loss: 0.6500 - val_accuracy: 0.6206\n",
      "Epoch 46/100\n",
      "313/313 [==============================] - 5s 17ms/step - loss: 0.5437 - accuracy: 0.7329 - val_loss: 0.6450 - val_accuracy: 0.6328\n",
      "Epoch 47/100\n",
      "313/313 [==============================] - 5s 17ms/step - loss: 0.5396 - accuracy: 0.7353 - val_loss: 0.6459 - val_accuracy: 0.6326\n",
      "Epoch 48/100\n",
      "313/313 [==============================] - 6s 18ms/step - loss: 0.5359 - accuracy: 0.7383 - val_loss: 0.6428 - val_accuracy: 0.6344\n",
      "Epoch 49/100\n",
      "313/313 [==============================] - 6s 19ms/step - loss: 0.5319 - accuracy: 0.7425 - val_loss: 0.6412 - val_accuracy: 0.6366\n",
      "Epoch 50/100\n",
      "313/313 [==============================] - 6s 18ms/step - loss: 0.5280 - accuracy: 0.7452 - val_loss: 0.6412 - val_accuracy: 0.6398\n",
      "Epoch 51/100\n",
      "313/313 [==============================] - 6s 20ms/step - loss: 0.5242 - accuracy: 0.7473 - val_loss: 0.6426 - val_accuracy: 0.6430\n",
      "Epoch 52/100\n",
      "313/313 [==============================] - 6s 20ms/step - loss: 0.5205 - accuracy: 0.7508 - val_loss: 0.6395 - val_accuracy: 0.6446\n",
      "Epoch 53/100\n",
      "313/313 [==============================] - 7s 21ms/step - loss: 0.5168 - accuracy: 0.7523 - val_loss: 0.6385 - val_accuracy: 0.6476\n",
      "Epoch 54/100\n",
      "313/313 [==============================] - 7s 23ms/step - loss: 0.5131 - accuracy: 0.7558 - val_loss: 0.6384 - val_accuracy: 0.6524\n",
      "Epoch 55/100\n",
      "313/313 [==============================] - 9s 30ms/step - loss: 0.5094 - accuracy: 0.7583 - val_loss: 0.6358 - val_accuracy: 0.6522\n",
      "Epoch 56/100\n",
      "313/313 [==============================] - 15s 48ms/step - loss: 0.5060 - accuracy: 0.7610 - val_loss: 0.6388 - val_accuracy: 0.6552\n",
      "Epoch 57/100\n"
     ]
    },
    {
     "name": "stdout",
     "output_type": "stream",
     "text": [
      "313/313 [==============================] - 11s 37ms/step - loss: 0.5028 - accuracy: 0.7641 - val_loss: 0.6353 - val_accuracy: 0.6528\n",
      "Epoch 58/100\n",
      "313/313 [==============================] - 8s 26ms/step - loss: 0.4995 - accuracy: 0.7654 - val_loss: 0.6364 - val_accuracy: 0.6540\n",
      "Epoch 59/100\n",
      "313/313 [==============================] - 6s 20ms/step - loss: 0.4963 - accuracy: 0.7670 - val_loss: 0.6335 - val_accuracy: 0.6600\n",
      "Epoch 60/100\n",
      "313/313 [==============================] - 6s 18ms/step - loss: 0.4931 - accuracy: 0.7699 - val_loss: 0.6335 - val_accuracy: 0.6606\n",
      "Epoch 61/100\n",
      "313/313 [==============================] - 6s 18ms/step - loss: 0.4899 - accuracy: 0.7728 - val_loss: 0.6337 - val_accuracy: 0.6640\n",
      "Epoch 62/100\n",
      "313/313 [==============================] - 6s 18ms/step - loss: 0.4868 - accuracy: 0.7757 - val_loss: 0.6306 - val_accuracy: 0.6646\n",
      "Epoch 63/100\n",
      "313/313 [==============================] - 6s 18ms/step - loss: 0.4835 - accuracy: 0.7794 - val_loss: 0.6334 - val_accuracy: 0.6642\n",
      "Epoch 64/100\n",
      "313/313 [==============================] - 5s 17ms/step - loss: 0.4809 - accuracy: 0.7792 - val_loss: 0.6287 - val_accuracy: 0.6684\n",
      "Epoch 65/100\n",
      "313/313 [==============================] - 5s 17ms/step - loss: 0.4774 - accuracy: 0.7828 - val_loss: 0.6305 - val_accuracy: 0.6654\n",
      "Epoch 66/100\n",
      "313/313 [==============================] - 5s 15ms/step - loss: 0.4748 - accuracy: 0.7840 - val_loss: 0.6334 - val_accuracy: 0.6672\n",
      "Epoch 67/100\n",
      "313/313 [==============================] - 5s 15ms/step - loss: 0.4716 - accuracy: 0.7860 - val_loss: 0.6302 - val_accuracy: 0.6718\n"
     ]
    }
   ],
   "source": [
    "rmsprop = keras.optimizers.RMSprop(learning_rate=1e-4)\n",
    "model2.compile(optimizer=rmsprop, loss='binary_crossentropy', metrics=['accuracy'])\n",
    "checkpoint_cb = keras.callbacks.ModelCheckpoint('best-embedding-model.h5')\n",
    "early_stoppint_cb = keras.callbacks.EarlyStopping(patience=3, restore_best_weights=True)\n",
    "history = model2.fit(train_seq, train_target, epochs=100, batch_size=64, validation_data=(val_seq, val_target), \n",
    "                   callbacks=[checkpoint_cb, early_stoppint_cb])"
   ]
  },
  {
   "cell_type": "code",
   "execution_count": 54,
   "id": "166d084c",
   "metadata": {},
   "outputs": [
    {
     "data": {
      "image/png": "[encoded data removed]",
      "text/plain": [
       "<Figure size 432x288 with 1 Axes>"
      ]
     },
     "metadata": {
      "needs_background": "light"
     },
     "output_type": "display_data"
    }
   ],
   "source": [
    "plt.plot(history.history['loss'])\n",
    "plt.plot(history.history['val_loss'])\n",
    "plt.xlabel('epoch')\n",
    "plt.ylabel('loss')\n",
    "plt.legend(['train', 'val'])\n",
    "plt.show()"
   ]
  }
 ],
 "metadata": {
  "kernelspec": {
   "display_name": "Python 3 (ipykernel)",
   "language": "python",
   "name": "python3"
  },
  "language_info": {
   "codemirror_mode": {
    "name": "ipython",
    "version": 3
   },
   "file_extension": ".py",
   "mimetype": "text/x-python",
   "name": "python",
   "nbconvert_exporter": "python",
   "pygments_lexer": "ipython3",
   "version": "3.7.13"
  }
 },
 "nbformat": 4,
 "nbformat_minor": 5
}

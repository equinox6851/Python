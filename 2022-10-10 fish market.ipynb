{
 "cells": [
  {
   "cell_type": "code",
   "execution_count": 3,
   "metadata": {},
   "outputs": [],
   "source": [
    "import pandas as pd\n",
    "import numpy as np\n",
    "import matplotlib.pyplot as plt"
   ]
  },
  {
   "cell_type": "code",
   "execution_count": 2,
   "metadata": {},
   "outputs": [
    {
     "data": {
      "text/html": [
       "<div>\n",
       "<style scoped>\n",
       "    .dataframe tbody tr th:only-of-type {\n",
       "        vertical-align: middle;\n",
       "    }\n",
       "\n",
       "    .dataframe tbody tr th {\n",
       "        vertical-align: top;\n",
       "    }\n",
       "\n",
       "    .dataframe thead th {\n",
       "        text-align: right;\n",
       "    }\n",
       "</style>\n",
       "<table border=\"1\" class=\"dataframe\">\n",
       "  <thead>\n",
       "    <tr style=\"text-align: right;\">\n",
       "      <th></th>\n",
       "      <th>Species</th>\n",
       "      <th>Weight</th>\n",
       "      <th>Length1</th>\n",
       "      <th>Length2</th>\n",
       "      <th>Length3</th>\n",
       "      <th>Height</th>\n",
       "      <th>Width</th>\n",
       "    </tr>\n",
       "  </thead>\n",
       "  <tbody>\n",
       "    <tr>\n",
       "      <th>0</th>\n",
       "      <td>Bream</td>\n",
       "      <td>242.0</td>\n",
       "      <td>23.2</td>\n",
       "      <td>25.4</td>\n",
       "      <td>30.0</td>\n",
       "      <td>11.5200</td>\n",
       "      <td>4.0200</td>\n",
       "    </tr>\n",
       "    <tr>\n",
       "      <th>1</th>\n",
       "      <td>Bream</td>\n",
       "      <td>290.0</td>\n",
       "      <td>24.0</td>\n",
       "      <td>26.3</td>\n",
       "      <td>31.2</td>\n",
       "      <td>12.4800</td>\n",
       "      <td>4.3056</td>\n",
       "    </tr>\n",
       "    <tr>\n",
       "      <th>2</th>\n",
       "      <td>Bream</td>\n",
       "      <td>340.0</td>\n",
       "      <td>23.9</td>\n",
       "      <td>26.5</td>\n",
       "      <td>31.1</td>\n",
       "      <td>12.3778</td>\n",
       "      <td>4.6961</td>\n",
       "    </tr>\n",
       "    <tr>\n",
       "      <th>3</th>\n",
       "      <td>Bream</td>\n",
       "      <td>363.0</td>\n",
       "      <td>26.3</td>\n",
       "      <td>29.0</td>\n",
       "      <td>33.5</td>\n",
       "      <td>12.7300</td>\n",
       "      <td>4.4555</td>\n",
       "    </tr>\n",
       "    <tr>\n",
       "      <th>4</th>\n",
       "      <td>Bream</td>\n",
       "      <td>430.0</td>\n",
       "      <td>26.5</td>\n",
       "      <td>29.0</td>\n",
       "      <td>34.0</td>\n",
       "      <td>12.4440</td>\n",
       "      <td>5.1340</td>\n",
       "    </tr>\n",
       "  </tbody>\n",
       "</table>\n",
       "</div>"
      ],
      "text/plain": [
       "  Species  Weight  Length1  Length2  Length3   Height   Width\n",
       "0   Bream   242.0     23.2     25.4     30.0  11.5200  4.0200\n",
       "1   Bream   290.0     24.0     26.3     31.2  12.4800  4.3056\n",
       "2   Bream   340.0     23.9     26.5     31.1  12.3778  4.6961\n",
       "3   Bream   363.0     26.3     29.0     33.5  12.7300  4.4555\n",
       "4   Bream   430.0     26.5     29.0     34.0  12.4440  5.1340"
      ]
     },
     "execution_count": 2,
     "metadata": {},
     "output_type": "execute_result"
    }
   ],
   "source": [
    "data = pd.read_csv('/Users/wltjd/data/Fish.csv')\n",
    "data.head()"
   ]
  },
  {
   "cell_type": "code",
   "execution_count": 7,
   "metadata": {},
   "outputs": [
    {
     "data": {
      "image/png": "[encoded data removed]",
      "text/plain": [
       "<Figure size 432x288 with 1 Axes>"
      ]
     },
     "metadata": {
      "needs_background": "light"
     },
     "output_type": "display_data"
    }
   ],
   "source": [
    "plt.scatter(data['Length3'], data['Weight'])\n",
    "plt.xlabel('length')\n",
    "plt.ylabel('weight')\n",
    "plt.show()"
   ]
  },
  {
   "cell_type": "code",
   "execution_count": 25,
   "metadata": {},
   "outputs": [
    {
     "name": "stdout",
     "output_type": "stream",
     "text": [
      "49\n"
     ]
    }
   ],
   "source": [
    "Bream_Smelt = data[data['Species'] != 'Roach']\n",
    "Bream_Smelt = Bream_Smelt[Bream_Smelt['Species'] != 'Whitefish']\n",
    "Bream_Smelt = Bream_Smelt[Bream_Smelt['Species'] != 'Parkki']\n",
    "Bream_Smelt = Bream_Smelt[Bream_Smelt['Species'] != 'Perch']\n",
    "Bream_Smelt = Bream_Smelt[Bream_Smelt['Species'] != 'Pike']\n",
    "print(len(Bream_Smelt))"
   ]
  },
  {
   "cell_type": "code",
   "execution_count": 22,
   "metadata": {},
   "outputs": [
    {
     "data": {
      "text/plain": [
       "[[9.3, 6.7],\n",
       " [10.0, 7.5],\n",
       " [10.1, 7.0],\n",
       " [10.4, 9.7],\n",
       " [10.7, 9.8],\n",
       " [10.8, 8.7],\n",
       " [11.3, 10.0],\n",
       " [11.3, 9.9],\n",
       " [11.4, 9.8],\n",
       " [11.5, 12.2],\n",
       " [11.7, 13.4],\n",
       " [12.1, 12.2],\n",
       " [13.2, 19.7],\n",
       " [13.8, 19.9]]"
      ]
     },
     "execution_count": 22,
     "metadata": {},
     "output_type": "execute_result"
    }
   ],
   "source": [
    "# fish_all_data = [[l,w] for l, w in zip(data_Bream['Length1'], data_Bream['Weight'])]\n",
    "# fish_all_data = [[l,w] for l, w in zip(data_Smelt['Length1'], data_Smelt['Weight'])]\n",
    "# fish_all_data"
   ]
  },
  {
   "cell_type": "code",
   "execution_count": 27,
   "metadata": {},
   "outputs": [],
   "source": [
    "fish_data = [[l,w] for l,w in zip(Bream_Smelt['Length1'], Bream_Smelt['Weight'])]"
   ]
  },
  {
   "cell_type": "code",
   "execution_count": 28,
   "metadata": {},
   "outputs": [
    {
     "data": {
      "text/plain": [
       "[[23.2, 242.0],\n",
       " [24.0, 290.0],\n",
       " [23.9, 340.0],\n",
       " [26.3, 363.0],\n",
       " [26.5, 430.0],\n",
       " [26.8, 450.0],\n",
       " [26.8, 500.0],\n",
       " [27.6, 390.0],\n",
       " [27.6, 450.0],\n",
       " [28.5, 500.0],\n",
       " [28.4, 475.0],\n",
       " [28.7, 500.0],\n",
       " [29.1, 500.0],\n",
       " [29.5, 340.0],\n",
       " [29.4, 600.0],\n",
       " [29.4, 600.0],\n",
       " [30.4, 700.0],\n",
       " [30.4, 700.0],\n",
       " [30.9, 610.0],\n",
       " [31.0, 650.0],\n",
       " [31.3, 575.0],\n",
       " [31.4, 685.0],\n",
       " [31.5, 620.0],\n",
       " [31.8, 680.0],\n",
       " [31.9, 700.0],\n",
       " [31.8, 725.0],\n",
       " [32.0, 720.0],\n",
       " [32.7, 714.0],\n",
       " [32.8, 850.0],\n",
       " [33.5, 1000.0],\n",
       " [35.0, 920.0],\n",
       " [35.0, 955.0],\n",
       " [36.2, 925.0],\n",
       " [37.4, 975.0],\n",
       " [38.0, 950.0],\n",
       " [9.3, 6.7],\n",
       " [10.0, 7.5],\n",
       " [10.1, 7.0],\n",
       " [10.4, 9.7],\n",
       " [10.7, 9.8],\n",
       " [10.8, 8.7],\n",
       " [11.3, 10.0],\n",
       " [11.3, 9.9],\n",
       " [11.4, 9.8],\n",
       " [11.5, 12.2],\n",
       " [11.7, 13.4],\n",
       " [12.1, 12.2],\n",
       " [13.2, 19.7],\n",
       " [13.8, 19.9]]"
      ]
     },
     "execution_count": 28,
     "metadata": {},
     "output_type": "execute_result"
    }
   ],
   "source": [
    "fish_data"
   ]
  },
  {
   "cell_type": "code",
   "execution_count": 29,
   "metadata": {},
   "outputs": [
    {
     "name": "stdout",
     "output_type": "stream",
     "text": [
      "[1, 1, 1, 1, 1, 1, 1, 1, 1, 1, 1, 1, 1, 1, 1, 1, 1, 1, 1, 1, 1, 1, 1, 1, 1, 1, 1, 1, 1, 1, 1, 1, 1, 1, 1, 0, 0, 0, 0, 0, 0, 0, 0, 0, 0, 0, 0, 0, 0]\n"
     ]
    }
   ],
   "source": [
    "fish_target = [1]*35 + [0]*14\n",
    "print(fish_target)"
   ]
  },
  {
   "cell_type": "code",
   "execution_count": 32,
   "metadata": {},
   "outputs": [
    {
     "name": "stdout",
     "output_type": "stream",
     "text": [
      "Collecting sklearn\n",
      "  Using cached sklearn-0.0.tar.gz (1.1 kB)\n",
      "Requirement already satisfied: scikit-learn in c:\\users\\wltjd\\anaconda3\\lib\\site-packages (from sklearn) (0.23.2)\n",
      "Requirement already satisfied: numpy>=1.13.3 in c:\\users\\wltjd\\anaconda3\\lib\\site-packages (from scikit-learn->sklearn) (1.19.2)\n",
      "Requirement already satisfied: threadpoolctl>=2.0.0 in c:\\users\\wltjd\\anaconda3\\lib\\site-packages (from scikit-learn->sklearn) (2.1.0)\n",
      "Requirement already satisfied: scipy>=0.19.1 in c:\\users\\wltjd\\anaconda3\\lib\\site-packages (from scikit-learn->sklearn) (1.5.2)\n",
      "Requirement already satisfied: joblib>=0.11 in c:\\users\\wltjd\\anaconda3\\lib\\site-packages (from scikit-learn->sklearn) (0.17.0)\n",
      "Building wheels for collected packages: sklearn\n",
      "  Building wheel for sklearn (setup.py): started\n",
      "  Building wheel for sklearn (setup.py): finished with status 'done'\n",
      "  Created wheel for sklearn: filename=sklearn-0.0-py2.py3-none-any.whl size=1321 sha256=7fa43bc74cab567be06309ebeb5d7a5fdaf18d36663f6690d901e4e846329bdb\n",
      "  Stored in directory: c:\\users\\wltjd\\appdata\\local\\pip\\cache\\wheels\\22\\0b\\40\\fd3f795caaa1fb4c6cb738bc1f56100be1e57da95849bfc897\n",
      "Successfully built sklearn\n",
      "Installing collected packages: sklearn\n",
      "Successfully installed sklearn-0.0\n"
     ]
    }
   ],
   "source": [
    "!pip install sklearn"
   ]
  },
  {
   "cell_type": "code",
   "execution_count": 35,
   "metadata": {},
   "outputs": [
    {
     "data": {
      "text/plain": [
       "KNeighborsClassifier(n_neighbors=3)"
      ]
     },
     "execution_count": 35,
     "metadata": {},
     "output_type": "execute_result"
    }
   ],
   "source": [
    "from sklearn.neighbors import KNeighborsClassifier\n",
    "knn = KNeighborsClassifier(n_neighbors=3)\n",
    "knn.fit(fish_data, fish_target)"
   ]
  },
  {
   "cell_type": "code",
   "execution_count": 36,
   "metadata": {},
   "outputs": [
    {
     "data": {
      "text/plain": [
       "1.0"
      ]
     },
     "execution_count": 36,
     "metadata": {},
     "output_type": "execute_result"
    }
   ],
   "source": [
    "knn.score(fish_data, fish_target)"
   ]
  },
  {
   "cell_type": "code",
   "execution_count": 38,
   "metadata": {},
   "outputs": [
    {
     "data": {
      "text/plain": [
       "<matplotlib.collections.PathCollection at 0x1e0c4be3310>"
      ]
     },
     "execution_count": 38,
     "metadata": {},
     "output_type": "execute_result"
    },
    {
     "data": {
      "image/png": "[encoded data removed]",
      "text/plain": [
       "<Figure size 432x288 with 1 Axes>"
      ]
     },
     "metadata": {
      "needs_background": "light"
     },
     "output_type": "display_data"
    }
   ],
   "source": [
    "plt.scatter(Bream_Smelt['Weight'], Bream_Smelt['Length1'])"
   ]
  },
  {
   "cell_type": "code",
   "execution_count": 40,
   "metadata": {},
   "outputs": [
    {
     "data": {
      "text/plain": [
       "array([0])"
      ]
     },
     "execution_count": 40,
     "metadata": {},
     "output_type": "execute_result"
    }
   ],
   "source": [
    "knn.predict([[10,14]])"
   ]
  },
  {
   "cell_type": "code",
   "execution_count": 41,
   "metadata": {
    "scrolled": true
   },
   "outputs": [
    {
     "name": "stdout",
     "output_type": "stream",
     "text": [
      "[[  23.2  242. ]\n",
      " [  24.   290. ]\n",
      " [  23.9  340. ]\n",
      " [  26.3  363. ]\n",
      " [  26.5  430. ]\n",
      " [  26.8  450. ]\n",
      " [  26.8  500. ]\n",
      " [  27.6  390. ]\n",
      " [  27.6  450. ]\n",
      " [  28.5  500. ]\n",
      " [  28.4  475. ]\n",
      " [  28.7  500. ]\n",
      " [  29.1  500. ]\n",
      " [  29.5  340. ]\n",
      " [  29.4  600. ]\n",
      " [  29.4  600. ]\n",
      " [  30.4  700. ]\n",
      " [  30.4  700. ]\n",
      " [  30.9  610. ]\n",
      " [  31.   650. ]\n",
      " [  31.3  575. ]\n",
      " [  31.4  685. ]\n",
      " [  31.5  620. ]\n",
      " [  31.8  680. ]\n",
      " [  31.9  700. ]\n",
      " [  31.8  725. ]\n",
      " [  32.   720. ]\n",
      " [  32.7  714. ]\n",
      " [  32.8  850. ]\n",
      " [  33.5 1000. ]\n",
      " [  35.   920. ]\n",
      " [  35.   955. ]\n",
      " [  36.2  925. ]\n",
      " [  37.4  975. ]\n",
      " [  38.   950. ]\n",
      " [   9.3    6.7]\n",
      " [  10.     7.5]\n",
      " [  10.1    7. ]\n",
      " [  10.4    9.7]\n",
      " [  10.7    9.8]\n",
      " [  10.8    8.7]\n",
      " [  11.3   10. ]\n",
      " [  11.3    9.9]\n",
      " [  11.4    9.8]\n",
      " [  11.5   12.2]\n",
      " [  11.7   13.4]\n",
      " [  12.1   12.2]\n",
      " [  13.2   19.7]\n",
      " [  13.8   19.9]]\n"
     ]
    }
   ],
   "source": [
    "print(knn._fit_X)"
   ]
  },
  {
   "cell_type": "code",
   "execution_count": 43,
   "metadata": {},
   "outputs": [
    {
     "name": "stdout",
     "output_type": "stream",
     "text": [
      "[1 1 1 1 1 1 1 1 1 1 1 1 1 1 1 1 1 1 1 1 1 1 1 1 1 1 1 1 1 1 1 1 1 1 1 0 0\n",
      " 0 0 0 0 0 0 0 0 0 0 0 0]\n"
     ]
    }
   ],
   "source": [
    "print(knn._y)"
   ]
  },
  {
   "cell_type": "markdown",
   "metadata": {},
   "source": [
    "n_neighbor 수 조정 "
   ]
  },
  {
   "cell_type": "code",
   "execution_count": 44,
   "metadata": {},
   "outputs": [
    {
     "data": {
      "text/plain": [
       "KNeighborsClassifier(n_neighbors=49)"
      ]
     },
     "execution_count": 44,
     "metadata": {},
     "output_type": "execute_result"
    }
   ],
   "source": [
    "knn = KNeighborsClassifier(n_neighbors=49)\n",
    "knn.fit(fish_data, fish_target)"
   ]
  },
  {
   "cell_type": "code",
   "execution_count": 45,
   "metadata": {},
   "outputs": [
    {
     "data": {
      "text/plain": [
       "array([1])"
      ]
     },
     "execution_count": 45,
     "metadata": {},
     "output_type": "execute_result"
    }
   ],
   "source": [
    "knn.predict([[10,14]])"
   ]
  },
  {
   "cell_type": "code",
   "execution_count": 46,
   "metadata": {},
   "outputs": [
    {
     "data": {
      "text/plain": [
       "0.7142857142857143"
      ]
     },
     "execution_count": 46,
     "metadata": {},
     "output_type": "execute_result"
    }
   ],
   "source": [
    "knn.score(fish_data, fish_target)"
   ]
  },
  {
   "cell_type": "code",
   "execution_count": null,
   "metadata": {},
   "outputs": [],
   "source": []
  }
 ],
 "metadata": {
  "kernelspec": {
   "display_name": "Python 3",
   "language": "python",
   "name": "python3"
  },
  "language_info": {
   "codemirror_mode": {
    "name": "ipython",
    "version": 3
   },
   "file_extension": ".py",
   "mimetype": "text/x-python",
   "name": "python",
   "nbconvert_exporter": "python",
   "pygments_lexer": "ipython3",
   "version": "3.8.5"
  }
 },
 "nbformat": 4,
 "nbformat_minor": 4
}

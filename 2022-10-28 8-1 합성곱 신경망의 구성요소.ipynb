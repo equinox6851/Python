{
 "cells": [
  {
   "cell_type": "markdown",
   "id": "4a3366d7",
   "metadata": {},
   "source": [
    "kernel : 입력에 곱하는 가중치를 의미\n",
    "\n",
    "filter : 뉴런의 개수를 이야기할때 씀\n",
    "    \n",
    "feature map : 합성곱 계산을 통해 얻은 출력, 활성화 함수를 통과한 값\n",
    "\n",
    "padding : 입력 배열의 주위를 가상의 원소로 채우는것. (same, valid)\n",
    "\n",
    "stride : 이동의 크기\n",
    "    \n",
    "pooling : 합성곱 층에서 만든 특성 맵의 가로 세로 크기를 줄이는 역할(차원의 갯수는 유지)"
   ]
  },
  {
   "cell_type": "code",
   "execution_count": 1,
   "id": "97e3c7d7",
   "metadata": {},
   "outputs": [
    {
     "data": {
      "text/plain": [
       "<keras.layers.convolutional.conv2d.Conv2D at 0x1bbf73b7c08>"
      ]
     },
     "execution_count": 1,
     "metadata": {},
     "output_type": "execute_result"
    }
   ],
   "source": [
    "from tensorflow import keras\n",
    "\n",
    "keras.layers.Conv2D(10, kernel_size=(3,3), activation='relu')"
   ]
  },
  {
   "cell_type": "code",
   "execution_count": 3,
   "id": "e86f15d3",
   "metadata": {},
   "outputs": [
    {
     "data": {
      "text/plain": [
       "<keras.layers.convolutional.conv2d.Conv2D at 0x1bb90954fc8>"
      ]
     },
     "execution_count": 3,
     "metadata": {},
     "output_type": "execute_result"
    }
   ],
   "source": [
    "keras.layers.Conv2D(10, kernel_size=(3,3), activation='relu', padding='same')"
   ]
  },
  {
   "cell_type": "code",
   "execution_count": 7,
   "id": "ab3e2445",
   "metadata": {},
   "outputs": [
    {
     "data": {
      "text/plain": [
       "<keras.layers.convolutional.conv2d.Conv2D at 0x1bb90964648>"
      ]
     },
     "execution_count": 7,
     "metadata": {},
     "output_type": "execute_result"
    }
   ],
   "source": [
    "keras.layers.Conv2D(10, kernel_size=(3,3), activation='relu', padding='same', strides=1)"
   ]
  },
  {
   "cell_type": "code",
   "execution_count": 8,
   "id": "b3779d8b",
   "metadata": {},
   "outputs": [
    {
     "data": {
      "text/plain": [
       "<keras.layers.pooling.max_pooling2d.MaxPooling2D at 0x1bb916e7688>"
      ]
     },
     "execution_count": 8,
     "metadata": {},
     "output_type": "execute_result"
    }
   ],
   "source": [
    "keras.layers.MaxPooling2D(2)"
   ]
  },
  {
   "cell_type": "code",
   "execution_count": 9,
   "id": "42643885",
   "metadata": {},
   "outputs": [
    {
     "data": {
      "text/plain": [
       "<keras.layers.pooling.max_pooling2d.MaxPooling2D at 0x1bb916e9208>"
      ]
     },
     "execution_count": 9,
     "metadata": {},
     "output_type": "execute_result"
    }
   ],
   "source": [
    "keras.layers.MaxPooling2D(2, strides=2, padding='valid')"
   ]
  },
  {
   "cell_type": "code",
   "execution_count": null,
   "id": "ad2053b5",
   "metadata": {},
   "outputs": [],
   "source": []
  }
 ],
 "metadata": {
  "kernelspec": {
   "display_name": "Python 3 (ipykernel)",
   "language": "python",
   "name": "python3"
  },
  "language_info": {
   "codemirror_mode": {
    "name": "ipython",
    "version": 3
   },
   "file_extension": ".py",
   "mimetype": "text/x-python",
   "name": "python",
   "nbconvert_exporter": "python",
   "pygments_lexer": "ipython3",
   "version": "3.7.13"
  }
 },
 "nbformat": 4,
 "nbformat_minor": 5
}

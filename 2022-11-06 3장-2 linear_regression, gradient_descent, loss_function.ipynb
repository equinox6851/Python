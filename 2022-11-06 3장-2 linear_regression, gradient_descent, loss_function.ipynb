{
 "cells": [
  {
   "cell_type": "code",
   "execution_count": 1,
   "id": "e73faf25",
   "metadata": {},
   "outputs": [],
   "source": [
    "import pandas as pd\n",
    "import numpy as np\n",
    "import tensorflow as tf\n",
    "import matplotlib.pyplot as plt"
   ]
  },
  {
   "cell_type": "code",
   "execution_count": 3,
   "id": "3e68cff2",
   "metadata": {},
   "outputs": [],
   "source": [
    "from sklearn.datasets import load_diabetes\n",
    "\n",
    "diabetes = load_diabetes()"
   ]
  },
  {
   "cell_type": "code",
   "execution_count": 4,
   "id": "27045688",
   "metadata": {},
   "outputs": [
    {
     "name": "stdout",
     "output_type": "stream",
     "text": [
      "(442, 10) (442,)\n"
     ]
    }
   ],
   "source": [
    "print(diabetes.data.shape, diabetes.target.shape)"
   ]
  },
  {
   "cell_type": "code",
   "execution_count": 5,
   "id": "af91d03e",
   "metadata": {},
   "outputs": [],
   "source": [
    "x = diabetes.data[:,2]\n",
    "y = diabetes.target"
   ]
  },
  {
   "cell_type": "code",
   "execution_count": 8,
   "id": "fae20c63",
   "metadata": {},
   "outputs": [],
   "source": [
    "w = 1.0\n",
    "b = 1.0"
   ]
  },
  {
   "cell_type": "code",
   "execution_count": 11,
   "id": "32d00c49",
   "metadata": {},
   "outputs": [
    {
     "name": "stdout",
     "output_type": "stream",
     "text": [
      "1.0616962065186832\n"
     ]
    }
   ],
   "source": [
    "y_hat = x[0]*w + b\n",
    "print(y_hat)"
   ]
  },
  {
   "cell_type": "code",
   "execution_count": 14,
   "id": "9358b7f9",
   "metadata": {},
   "outputs": [
    {
     "name": "stdout",
     "output_type": "stream",
     "text": [
      "1.0678658271705517\n"
     ]
    }
   ],
   "source": [
    "w_inc = w+0.1\n",
    "y_hat_inc = x[0]*w_inc + b\n",
    "print(y_hat_inc)"
   ]
  },
  {
   "cell_type": "code",
   "execution_count": 15,
   "id": "b27b43af",
   "metadata": {},
   "outputs": [
    {
     "name": "stdout",
     "output_type": "stream",
     "text": [
      "0.06169620651868429\n"
     ]
    }
   ],
   "source": [
    "# w값 조정후 얼마나 변했는지 확인하기\n",
    "w_rate = (y_hat_inc - y_hat) / (w_inc - w)\n",
    "print(w_rate)"
   ]
  },
  {
   "cell_type": "code",
   "execution_count": 16,
   "id": "da7f9c46",
   "metadata": {},
   "outputs": [
    {
     "name": "stdout",
     "output_type": "stream",
     "text": [
      "1.0616962065186843\n"
     ]
    }
   ],
   "source": [
    "w_new = w + w_rate\n",
    "print(w_new)"
   ]
  },
  {
   "cell_type": "code",
   "execution_count": 17,
   "id": "253a2263",
   "metadata": {},
   "outputs": [
    {
     "name": "stdout",
     "output_type": "stream",
     "text": [
      "1.1616962065186833\n"
     ]
    }
   ],
   "source": [
    "b_inc = b+0.1\n",
    "y_hat_inc = x[0]*w + b_inc\n",
    "print(y_hat_inc)"
   ]
  },
  {
   "cell_type": "code",
   "execution_count": 18,
   "id": "c9e6dc9e",
   "metadata": {},
   "outputs": [
    {
     "name": "stdout",
     "output_type": "stream",
     "text": [
      "1.0\n"
     ]
    }
   ],
   "source": [
    "b_rate = (y_hat_inc - y_hat)/(b_inc - b)\n",
    "print(b_rate)"
   ]
  },
  {
   "cell_type": "code",
   "execution_count": 19,
   "id": "d2878be3",
   "metadata": {},
   "outputs": [
    {
     "name": "stdout",
     "output_type": "stream",
     "text": [
      "10.250624555903848 150.9383037934813\n"
     ]
    }
   ],
   "source": [
    "err = y[0] - y_hat\n",
    "w_new = w + w_rate*err\n",
    "b_new = b + 1*err\n",
    "print(w_new, b_new)"
   ]
  },
  {
   "cell_type": "code",
   "execution_count": 20,
   "id": "7ada3624",
   "metadata": {},
   "outputs": [
    {
     "name": "stdout",
     "output_type": "stream",
     "text": [
      "14.132317616380695 75.52764127612656\n"
     ]
    }
   ],
   "source": [
    "y_hat = x[1] * w_new + b_new\n",
    "err = y[1] - y_hat\n",
    "w_rate = x[1]\n",
    "w_new = w_new + w_rate*err\n",
    "b_new = b_new + 1*err\n",
    "print(w_new, b_new)"
   ]
  },
  {
   "cell_type": "code",
   "execution_count": 21,
   "id": "c435981f",
   "metadata": {},
   "outputs": [
    {
     "name": "stdout",
     "output_type": "stream",
     "text": [
      "587.8654539985616 99.4093556453094\n"
     ]
    }
   ],
   "source": [
    "# 전체 샘플 반복하기\n",
    "for x_i, y_i in zip(x,y):\n",
    "    y_hat = x_i*w + b\n",
    "    err = y_i - y_hat\n",
    "    w_rate = x_i\n",
    "    w = w + w_rate*err\n",
    "    b = b + 1*err\n",
    "print(w,b)"
   ]
  },
  {
   "cell_type": "code",
   "execution_count": 22,
   "id": "76647e05",
   "metadata": {},
   "outputs": [
    {
     "name": "stdout",
     "output_type": "stream",
     "text": [
      "913.5973364346786 123.39414383177173\n"
     ]
    }
   ],
   "source": [
    "# 에포크 반복\n",
    "for i in range(1,100):\n",
    "    for x_i, y_i in zip(x,y):\n",
    "        y_hat = x_i*w + b\n",
    "        err = y_i - y_hat\n",
    "        w_rate = x_i\n",
    "        w = w + w_rate*err\n",
    "        b = b + 1*err\n",
    "print(w,b)"
   ]
  },
  {
   "cell_type": "markdown",
   "id": "967a72d1",
   "metadata": {},
   "source": [
    "3-3 손실함수와 경사하강법의 관계를 알아보자"
   ]
  },
  {
   "cell_type": "code",
   "execution_count": 23,
   "id": "17e40983",
   "metadata": {},
   "outputs": [],
   "source": [
    "y_hat = x_i*w + b\n",
    "err = y_i - y_hat\n",
    "w_rate = x_i\n",
    "w = w + w_rate*err"
   ]
  },
  {
   "cell_type": "code",
   "execution_count": 24,
   "id": "6ac1a723",
   "metadata": {},
   "outputs": [],
   "source": [
    "err = y_i - y_hat\n",
    "b = b + 1*err"
   ]
  },
  {
   "cell_type": "markdown",
   "id": "b6ae6043",
   "metadata": {},
   "source": [
    "3-4 선형 회귀를 위한 뉴런을 만들어보자"
   ]
  },
  {
   "cell_type": "code",
   "execution_count": 32,
   "id": "1fb7185e",
   "metadata": {},
   "outputs": [],
   "source": [
    "class Neuron:\n",
    "    \n",
    "    def __init__(self):\n",
    "        self.w = 1.0\n",
    "        self.b = 1.0\n",
    "        \n",
    "    def forpass(self, x):\n",
    "        y_hat = x*self.w + self.b\n",
    "        return y_hat\n",
    "    \n",
    "    def backprop(self, x, err):\n",
    "        w_grad = x*err\n",
    "        b_grad = 1*err\n",
    "        return w_grad, b_grad\n",
    "    \n",
    "    def fit(self, x, y, epochs=100):\n",
    "         for i in range(epochs):\n",
    "            for x_i, y_i in zip(x,y):\n",
    "                y_hat = self.forpass(x_i)\n",
    "                err = -(y_i - y_hat)\n",
    "                w_grad, b_grad = self.backprop(x_i, err)\n",
    "                self.w -= w_grad\n",
    "                self.b -= b_grad"
   ]
  },
  {
   "cell_type": "code",
   "execution_count": 33,
   "id": "703385fb",
   "metadata": {},
   "outputs": [],
   "source": [
    "neuron = Neuron()\n",
    "neuron.fit(x, y)"
   ]
  },
  {
   "cell_type": "code",
   "execution_count": 35,
   "id": "ae14cbde",
   "metadata": {},
   "outputs": [
    {
     "data": {
      "image/png": "[encoded data removed]",
      "text/plain": [
       "<Figure size 640x480 with 1 Axes>"
      ]
     },
     "metadata": {},
     "output_type": "display_data"
    }
   ],
   "source": [
    "plt.scatter(x,y)\n",
    "pt1 = (-0.1, -0.1*neuron.w + neuron.b)\n",
    "pt2 = (0.15, 0.15*neuron.w + neuron.b)\n",
    "plt.plot([pt1[0], pt2[0]], [pt1[1], pt2[1]])\n",
    "plt.show()"
   ]
  },
  {
   "cell_type": "code",
   "execution_count": null,
   "id": "1f726afa",
   "metadata": {},
   "outputs": [],
   "source": []
  }
 ],
 "metadata": {
  "kernelspec": {
   "display_name": "Python 3 (ipykernel)",
   "language": "python",
   "name": "python3"
  },
  "language_info": {
   "codemirror_mode": {
    "name": "ipython",
    "version": 3
   },
   "file_extension": ".py",
   "mimetype": "text/x-python",
   "name": "python",
   "nbconvert_exporter": "python",
   "pygments_lexer": "ipython3",
   "version": "3.8.13"
  }
 },
 "nbformat": 4,
 "nbformat_minor": 5
}
